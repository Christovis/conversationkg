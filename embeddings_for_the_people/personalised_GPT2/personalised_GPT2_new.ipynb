{
 "cells": [
  {
   "cell_type": "code",
   "execution_count": 1,
   "metadata": {},
   "outputs": [
    {
     "name": "stderr",
     "output_type": "stream",
     "text": [
      "I0228 15:45:27.833490 140301150287680 file_utils.py:38] PyTorch version 1.4.0 available.\n"
     ]
    }
   ],
   "source": [
    "from transformers import GPT2Tokenizer, GPT2Model, GPT2LMHeadModel\n",
    "\n",
    "\n",
    "import torch\n",
    "# from torch import nn\n",
    "import numpy as np\n",
    "\n",
    "import pickle\n",
    "from tqdm import tqdm\n",
    "\n",
    "\n",
    "from collections import Counter\n",
    "import matplotlib.pyplot as plt\n",
    "\n",
    "import logging\n",
    "logging.getLogger(\"transformers.tokenization_utils\").setLevel(logging.ERROR)"
   ]
  },
  {
   "cell_type": "markdown",
   "metadata": {},
   "source": [
    "## Load E-mail Data"
   ]
  },
  {
   "cell_type": "code",
   "execution_count": 2,
   "metadata": {},
   "outputs": [],
   "source": [
    "with open(\"../../../w3c-emails/emails.pkl\", \"rb\") as handle:\n",
    "    emails = pickle.load(handle)"
   ]
  },
  {
   "cell_type": "markdown",
   "metadata": {},
   "source": [
    "# Steps\n",
    "\n",
    " 0. select authors (so that evaulation sets can be held out) and establish their frequencies <br>\n",
    "   -> $P(X)$, i.e. the probability that a person appears as an author of any e-mail\n",
    " 1. pre-train GPT-2 on W3C e-mail corpus <br> \n",
    "   -> W3CGPT-2 <br>\n",
    "   -> approximates $P(email)$\n",
    " 2. train W3CGPT-2 on e-mails by selected authors <br>\n",
    "   -> GPT-2$_X$ for each person $X$ <br> \n",
    "   -> i.e. $P(email|X)$\n",
    " 3. use GPT-2$_X$ to classify unseen (both to W3CGPT-2 and to GPT-2$_X$) e-mails <br>\n",
    "   -> $P(X|email) = P(X)P(email|X)/P(email)$"
   ]
  },
  {
   "cell_type": "markdown",
   "metadata": {},
   "source": [
    "## 0. Select Authors (and their e-mails)\n",
    "\n",
    " - author-frequency distribution Zipfian, so use log-linear ranks to select authors <br> \n",
    "   (i.e. author rank 1, author rank 2, author rank 4, author rank 8, ..., author rank 512)\n",
    "   \n",
    " - plots below equivalent to $P(X)$"
   ]
  },
  {
   "cell_type": "code",
   "execution_count": 3,
   "metadata": {},
   "outputs": [],
   "source": [
    "def select_by_ranks(emails, ls_of_ranks):\n",
    "    sndr_cnts = Counter(e.sender for e in emails)\n",
    "    ranks_sndr = {r:s for r, (s, c) in enumerate(sndr_cnts.most_common())}\n",
    "    \n",
    "    for r in ls_of_ranks:\n",
    "        cur_s = ranks_sndr[r]\n",
    "        yield [m for m in emails if m.sender == cur_s]\n",
    "        \n",
    "rank_rng = [2**i for i in range(10)]\n",
    "selection = list(select_by_ranks(emails, rank_rng))\n",
    "rest = list(set(emails) - set(m for m_ls in selection for m in m_ls))"
   ]
  },
  {
   "cell_type": "code",
   "execution_count": 4,
   "metadata": {
    "collapsed": true
   },
   "outputs": [
    {
     "data": {
      "image/png": "[encoded data removed]",
      "text/plain": [
       "<Figure size 1080x720 with 2 Axes>"
      ]
     },
     "metadata": {},
     "output_type": "display_data"
    }
   ],
   "source": [
    "sndr_cnts = Counter(e.sender for e in emails)\n",
    "rs, cs = list(zip(*[(r, c) for r, (_, c) in enumerate(sndr_cnts.most_common())]))\n",
    "\n",
    "fig = plt.figure(1, figsize=(15, 10))\n",
    "plt.subplot(221)\n",
    "plt.loglog(rs, cs, '.')\n",
    "plt.xlabel(\"$\\log$ rank\"); plt.ylabel(\"$\\log$ frequency\"); plt.title(\"Rank-Frequency plot of number of e-mails authored by each person\\n$= P(X)$\")\n",
    "\n",
    "rng = [2**i for i in range(10)]\n",
    "rng_cs = [cs[i] for i in rng]\n",
    "\n",
    "plt.subplot(222)\n",
    "plt.loglog(rng, rng_cs, '.')\n",
    "_ = plt.title(\"Thinned version of the left plot\\n(subset of 10)\")"
   ]
  },
  {
   "cell_type": "markdown",
   "metadata": {},
   "source": [
    "## 0.1 Get Train and Evaluation sets\n",
    "\n",
    "using train:eval ratio of 30:70"
   ]
  },
  {
   "cell_type": "code",
   "execution_count": 16,
   "metadata": {},
   "outputs": [],
   "source": [
    "perm = np.random.permutation\n",
    "def split_train_test(ls, test_ratio=0.3):\n",
    "    cutoff = int(len(ls)*test_ratio)\n",
    "    randmsd_ls = list(perm(ls))\n",
    "    test = randmsd_ls[:cutoff]\n",
    "    train = randmsd_ls[cutoff:]\n",
    "    \n",
    "    return train, test\n",
    "\n",
    "# def emails_to_datasets(selected, rest, test_ratio=0.3):\n",
    "#     train, test = split_train_test(rest, test_ratio)\n",
    "#     for mail_ls in selected:\n",
    "#         cur_train, cur_test = split_train_test(mail_ls, test_ratio)\n",
    "#         train.extend(cur_train)\n",
    "#         test.extend(cur_test)\n",
    "        \n",
    "#     return train, test\n",
    "\n",
    "selection_trains, selection_tests = list(zip(*[split_train_test(m_ls) for m_ls in selection]))\n",
    "rest_train, rest_test = split_train_test(rest)"
   ]
  },
  {
   "cell_type": "code",
   "execution_count": 17,
   "metadata": {},
   "outputs": [
    {
     "name": "stdout",
     "output_type": "stream",
     "text": [
      "[249, 239, 184, 161, 107, 83, 51, 27, 13, 6] [248, 239, 184, 161, 107, 82, 50, 26, 13, 6]\n"
     ]
    },
    {
     "data": {
      "text/plain": [
       "(20474, 40948)"
      ]
     },
     "execution_count": 17,
     "metadata": {},
     "output_type": "execute_result"
    }
   ],
   "source": [
    "selection_never_seen, selection_tests2 = list(zip(*[split_train_test(m_ls, test_ratio=0.5) \n",
    "                                                   for m_ls in selection_tests]))\n",
    "rest_never_seen, rest_test2 = split_train_test(rest_test, test_ratio=0.5)\n",
    "\n",
    "\n",
    "print(list(map(len, selection_never_seen)), list(map(len, selection_tests2)))\n",
    "len(rest_never_seen), len(rest_test)"
   ]
  },
  {
   "cell_type": "markdown",
   "metadata": {},
   "source": [
    "## 1. Domain-Adapt GPT-2 to W3C E-mails\n",
    "\n",
    " - pre-train an instance of GPT-2 on entire (subset of) w3c-email corpus <br>\n",
    "   -> will reduce perplexity and thus increase sensitivity of LMs\n",
    " - use this LM as starting point to train personalised LMs \n",
    " - also reserve a test set? -> i.e. some e-mails which no custom-trained LM has seen before\n",
    " \n",
    " - => write e-mail bodies into text files, train and eval"
   ]
  },
  {
   "cell_type": "code",
   "execution_count": 19,
   "metadata": {},
   "outputs": [],
   "source": [
    "def emails_to_trainfile(email_ls, file_name, split_into=1):\n",
    "    chunk_size = len(email_ls)//split_into\n",
    "    for i in range(split_into):\n",
    "        with open(file_name + f\".{i}\", \"w\", encoding=\"utf-8\") as handle:\n",
    "            cur_chunk = email_ls[i*chunk_size:(i+1)*chunk_size] if i != split_into-1 else email_ls[i*chunk_size:]\n",
    "            for m in cur_chunk:\n",
    "                mail_str = m.body_raw.replace(\"\\n\", \"  \")\n",
    "                handle.write(mail_str)\n",
    "                handle.write(\"\\n\\n\")\n",
    "            \n",
    "full_train = perm(rest_train + \n",
    "                  [m for m_ls in selection_trains for m in m_ls] +\n",
    "                  [m for m_ls in selection_tests2 for m in m_ls])\n",
    "\n",
    "full_test = perm(rest_never_seen + [m for m_ls in selection_never_seen for m in m_ls])\n",
    "\n",
    "emails_to_trainfile(full_train, \"W3CGPT2/full.train.raw\", split_into=5)\n",
    "emails_to_trainfile(full_test, \"W3CGPT2/full.test.raw\", split_into=4)"
   ]
  },
  {
   "cell_type": "markdown",
   "metadata": {},
   "source": [
    "\n",
    "### 1.1 Call for Training\n",
    "\n",
    "  - first: merge split up text files -> `cat full.train.raw.* > full.train.raw.all`\n",
    "\n",
    "`python3 run_language_modeling.py --train_data_file=W3CGPT2/full.train.raw.all --model_type=gpt2 --output_dir=W3CGPT2/lm --model_name_or_path=gpt2 --do_train --line_by_line --num_train_epochs=2`\n",
    "\n",
    " - `--line_by_line` indicates one sample per line to spearate e-mails, `\"\\n\"` inside e-mails converted to `\" \"`\n",
    " - perhaps use `--block_size=128/256/512` (rather than GPT-2's default of 1024) -> loose fewer tokens at the ends of long emails\n",
    " \n",
    " \n",
    "### 1.2 Load Trained\n",
    "\n",
    "should be as simple as:"
   ]
  },
  {
   "cell_type": "code",
   "execution_count": null,
   "metadata": {},
   "outputs": [],
   "source": [
    "model = GPT2Model.from_pretrained('/W3CGPT2/lm/') "
   ]
  },
  {
   "cell_type": "markdown",
   "metadata": {},
   "source": [
    "## 2. Train one instance of W3CGPT-2 per author $X$ to become GPT-2$_X$\n",
    "\n",
    " - load W3CGPT2\n",
    " - get training files\n",
    " - call `run_language_modeling.py` with adequate parameters\n",
    " - run on LISA"
   ]
  },
  {
   "cell_type": "markdown",
   "metadata": {},
   "source": [
    "### 2.1 Training files, one per author"
   ]
  },
  {
   "cell_type": "code",
   "execution_count": null,
   "metadata": {},
   "outputs": [],
   "source": [
    "for mail_ls in selection_trains:"
   ]
  }
 ],
 "metadata": {
  "kernelspec": {
   "display_name": "Python 3",
   "language": "python",
   "name": "python3"
  },
  "language_info": {
   "codemirror_mode": {
    "name": "ipython",
    "version": 3
   },
   "file_extension": ".py",
   "mimetype": "text/x-python",
   "name": "python",
   "nbconvert_exporter": "python",
   "pygments_lexer": "ipython3",
   "version": "3.6.9"
  }
 },
 "nbformat": 4,
 "nbformat_minor": 2
}
