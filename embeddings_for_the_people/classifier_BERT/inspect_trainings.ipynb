{
 "cells": [
  {
   "cell_type": "code",
   "execution_count": 1,
   "metadata": {},
   "outputs": [],
   "source": [
    "import pickle\n",
    "import numpy as np\n",
    "import matplotlib.pyplot as plt"
   ]
  },
  {
   "cell_type": "code",
   "execution_count": 2,
   "metadata": {},
   "outputs": [],
   "source": [
    "chkpt = \"checkpoints_20200425-2305\"\n",
    "chkpt = \"org_checkpoints_20200425-2347\"\n",
    "epochs = 8"
   ]
  },
  {
   "cell_type": "code",
   "execution_count": 3,
   "metadata": {},
   "outputs": [],
   "source": [
    "import tensorflow as tf\n",
    "file_writer = tf.summary.create_file_writer(chkpt + \"/val_losses\")\n",
    "file_writer.set_as_default()"
   ]
  },
  {
   "cell_type": "markdown",
   "metadata": {},
   "source": [
    "# Training\n",
    "---\n",
    "## Losses"
   ]
  },
  {
   "cell_type": "code",
   "execution_count": 4,
   "metadata": {},
   "outputs": [],
   "source": [
    "with open(f\"{chkpt}/train_losses.pkl\", \"rb\") as handle:\n",
    "    train_losses = pickle.load(handle)\n",
    "train_losses = np.asarray(train_losses).reshape((epochs, -1))"
   ]
  },
  {
   "cell_type": "code",
   "execution_count": 5,
   "metadata": {},
   "outputs": [],
   "source": [
    "for i, tl in enumerate(train_losses): \n",
    "    tf.summary.histogram(\"train_losses\", tl, step=i)"
   ]
  },
  {
   "cell_type": "markdown",
   "metadata": {},
   "source": [
    "# Probs"
   ]
  },
  {
   "cell_type": "code",
   "execution_count": 6,
   "metadata": {},
   "outputs": [],
   "source": [
    "with open(f\"{chkpt}/train_preds.pkl\", \"rb\") as handle:\n",
    "    train_preds = pickle.load(handle)\n",
    "train_preds = np.asarray([p.detach().numpy() for p in train_preds]).reshape((epochs, -1))"
   ]
  },
  {
   "cell_type": "code",
   "execution_count": 7,
   "metadata": {},
   "outputs": [],
   "source": [
    "for i, tp in enumerate(train_preds): \n",
    "    tf.summary.histogram(\"train_preds\", tp, step=i)"
   ]
  },
  {
   "cell_type": "markdown",
   "metadata": {},
   "source": [
    "# Validation\n",
    "---\n",
    "## Losses"
   ]
  },
  {
   "cell_type": "code",
   "execution_count": 8,
   "metadata": {},
   "outputs": [],
   "source": [
    "val_dicts = []\n",
    "for i in range(1, epochs+1):\n",
    "    with open(f\"{chkpt}/validation_epoch_0{i}.pth\", \"rb\") as handle:\n",
    "        val_dicts.append(pickle.load(handle))"
   ]
  },
  {
   "cell_type": "code",
   "execution_count": 9,
   "metadata": {},
   "outputs": [],
   "source": [
    "val_losses = np.asarray([vd[\"losses\"].numpy() for vd in val_dicts])\n",
    "for i, vl in enumerate(val_losses): \n",
    "    tf.summary.histogram(\"val_losses\", vl, step=i)"
   ]
  },
  {
   "cell_type": "code",
   "execution_count": 10,
   "metadata": {},
   "outputs": [
    {
     "name": "stdout",
     "output_type": "stream",
     "text": [
      "[0.58971214 0.59854674 0.5897192  0.58391774 0.6049687  0.59336674\n",
      " 0.5869173  0.58863264] \n",
      "\n",
      "[0.6599153  0.6370018  0.62696755 0.61972934 0.61543626 0.6030346\n",
      " 0.5968584  0.59197265] \n",
      "\n"
     ]
    }
   ],
   "source": [
    "print(train_losses.mean(axis=-1), \"\\n\")\n",
    "print(val_losses.mean(axis=-1), \"\\n\")"
   ]
  },
  {
   "cell_type": "markdown",
   "metadata": {},
   "source": [
    "## Probs"
   ]
  },
  {
   "cell_type": "code",
   "execution_count": 11,
   "metadata": {},
   "outputs": [],
   "source": [
    "val_probs = np.asarray([vd[\"probs\"].numpy() for vd in val_dicts])\n",
    "for i, vp in enumerate(val_probs): \n",
    "    tf.summary.histogram(\"val_probs\", vp, step=i)"
   ]
  }
 ],
 "metadata": {
  "kernelspec": {
   "display_name": "Python 3",
   "language": "python",
   "name": "python3"
  },
  "language_info": {
   "codemirror_mode": {
    "name": "ipython",
    "version": 3
   },
   "file_extension": ".py",
   "mimetype": "text/x-python",
   "name": "python",
   "nbconvert_exporter": "python",
   "pygments_lexer": "ipython3",
   "version": "3.6.9"
  }
 },
 "nbformat": 4,
 "nbformat_minor": 2
}
