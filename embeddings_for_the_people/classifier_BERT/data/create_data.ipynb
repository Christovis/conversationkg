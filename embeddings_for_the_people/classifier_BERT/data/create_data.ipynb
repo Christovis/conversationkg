{
 "cells": [
  {
   "cell_type": "code",
   "execution_count": null,
   "metadata": {},
   "outputs": [],
   "source": [
    "import os\n",
    "import pickle\n",
    "from tqdm import tqdm\n",
    "import numpy as np\n",
    "import numpy.random as rand\n",
    "\n",
    "from collections import Counter\n",
    "import matplotlib.pyplot as plt\n",
    "\n",
    "import pandas as pd\n",
    "\n",
    "import snorkel\n",
    "from snorkel.augmentation import transformation_function\n",
    "from snorkel.augmentation import RandomPolicy, MeanFieldPolicy\n",
    "from snorkel.augmentation import TFApplier, PandasTFApplier\n",
    "\n",
    "from snorkel.labeling import labeling_function\n",
    "from snorkel.labeling import PandasLFApplier\n"
   ]
  },
  {
   "cell_type": "markdown",
   "metadata": {},
   "source": [
    "# Load Data"
   ]
  },
  {
   "cell_type": "code",
   "execution_count": null,
   "metadata": {},
   "outputs": [],
   "source": [
    "# \"../../../w3c-emails/emails.pkl\"\n",
    "with open(\"../../../../w3c-emails/emails.pkl\", \"rb\") as handle:\n",
    "    emails = [e for e in pickle.load(handle)]\n",
    "\n",
    "# rng = list(range(len(emails)))\n",
    "for i, e in enumerate(emails):\n",
    "    e.index = i\n",
    "\n",
    "# senders = [e.sender for e in emails]\n"
   ]
  },
  {
   "cell_type": "code",
   "execution_count": null,
   "metadata": {},
   "outputs": [],
   "source": [
    "# \"emails_token_ids.pkl\"\n",
    "with open(\"1000_emails_token_ids.pkl\", \"rb\") as handle:\n",
    "    email_ids = pickle.load(handle)"
   ]
  },
  {
   "cell_type": "markdown",
   "metadata": {},
   "source": [
    "# Put into DF $\\rightarrow$ AS COMBINATIONS"
   ]
  },
  {
   "cell_type": "code",
   "execution_count": null,
   "metadata": {},
   "outputs": [],
   "source": [
    "names = \"index\", \"id\", \"sender\", \"body_raw\"\n",
    "\n",
    "# names2 = tuple(n + \"_2\" for n in names)\n",
    "\n",
    "def by_author(emails):\n",
    "    d = {}\n",
    "    \n",
    "    for e in emails:\n",
    "        if not e.sender in d:\n",
    "            d[e.sender] = []\n",
    "        d[e.sender].append(e)\n",
    "    return d\n",
    "\n",
    "by_auths = by_author(emails)\n",
    "\n",
    "        \n",
    "def objs_to_frame(emails, min_size=1):\n",
    "    rows = []\n",
    "    for s, e_ls in by_auths.items():\n",
    "        if len(e_ls) < min_size:\n",
    "            continue\n",
    "        e_ls2 = rand.permutation(e_ls)\n",
    "        for e1, e2 in zip(e_ls, e_ls2):\n",
    "            row = {n: str(getattr(e1, n)) for n in names}\n",
    "            row.update({n + \"_2\": str(getattr(e2, n)) for n in names})\n",
    "            rows.append(row)\n",
    "    return pd.DataFrame(rows)\n",
    "\n",
    "mail_frame = objs_to_frame(emails, min_size=2)#skip_singletons=True)"
   ]
  },
  {
   "cell_type": "markdown",
   "metadata": {},
   "source": [
    "# Define Transformation Functions & Apply"
   ]
  },
  {
   "cell_type": "code",
   "execution_count": null,
   "metadata": {},
   "outputs": [],
   "source": [
    "@transformation_function()\n",
    "def do_nothing(row):\n",
    "    return row\n",
    "\n",
    "all_auths = list(by_auths.keys())\n",
    "\n",
    "def sample_other_author(auth_label, num_tries=0):\n",
    "    sample_other_author.tries_collected.append(num_tries)\n",
    "    \n",
    "    drawn = all_auths[rand.choice(len(all_auths))]\n",
    "    \n",
    "    if num_tries < 5 and drawn == auth_label:\n",
    "        return sample_other_author(auth_label, num_tries=num_tries+1)\n",
    "    else:\n",
    "        return drawn\n",
    "sample_other_author.tries_collected = []\n",
    "\n",
    "\n",
    "@transformation_function()\n",
    "def do_noise(row):\n",
    "    e_id, auth_label = row[\"index\"], row[\"sender\"]\n",
    "    other_label = sample_other_author(auth_label)\n",
    "    other_email = rand.choice(by_auths[other_label])\n",
    "    \n",
    "#     new_row = row.copy()\n",
    "    for n in names:\n",
    "        row[n+\"_2\"] = getattr(other_email, n)\n",
    "\n",
    "    return row\n",
    "\n",
    "tfs = [do_nothing, do_noise]"
   ]
  },
  {
   "cell_type": "code",
   "execution_count": null,
   "metadata": {},
   "outputs": [],
   "source": [
    "mf_policy = MeanFieldPolicy(\n",
    "        len(tfs), sequence_length=1, p=[0.3, 0.7], n_per_original=2, keep_original=False\n",
    ")\n",
    "\n",
    "tf_applier = PandasTFApplier(tfs, mf_policy)\n",
    "samples = tf_applier.apply(mail_frame)"
   ]
  },
  {
   "cell_type": "code",
   "execution_count": null,
   "metadata": {},
   "outputs": [],
   "source": [
    "samples[samples.sender == samples.sender_2].shape[0]/samples.shape[0]"
   ]
  },
  {
   "cell_type": "markdown",
   "metadata": {},
   "source": [
    "# Label Rows"
   ]
  },
  {
   "cell_type": "code",
   "execution_count": null,
   "metadata": {},
   "outputs": [],
   "source": [
    "@labeling_function()\n",
    "def label(row):\n",
    "    return row.sender == row.sender_2"
   ]
  },
  {
   "cell_type": "code",
   "execution_count": null,
   "metadata": {},
   "outputs": [],
   "source": [
    "lf_applier = PandasLFApplier([label])\n",
    "labelled = lf_applier.apply(samples)\n",
    "\n",
    "samples[\"is_same\"] = labelled"
   ]
  },
  {
   "cell_type": "markdown",
   "metadata": {},
   "source": [
    "# Inspect Results"
   ]
  },
  {
   "cell_type": "code",
   "execution_count": null,
   "metadata": {},
   "outputs": [],
   "source": [
    "samples[samples[\"id\"] == samples[\"id_2\"]].shape[0]/samples.shape[0]"
   ]
  },
  {
   "cell_type": "code",
   "execution_count": null,
   "metadata": {},
   "outputs": [],
   "source": [
    "1 - samples.drop_duplicates().shape[0]/samples.shape[0]"
   ]
  },
  {
   "cell_type": "code",
   "execution_count": null,
   "metadata": {},
   "outputs": [],
   "source": [
    "samples[[\"index\", \"index_2\", \"is_same\"]].shape"
   ]
  },
  {
   "cell_type": "markdown",
   "metadata": {},
   "source": [
    "# Save everything"
   ]
  },
  {
   "cell_type": "code",
   "execution_count": null,
   "metadata": {},
   "outputs": [],
   "source": [
    "samples.to_csv(\"samples.csv.gz\")"
   ]
  },
  {
   "cell_type": "code",
   "execution_count": null,
   "metadata": {},
   "outputs": [],
   "source": [
    "sample_matrix = samples[[\"index\", \"index_2\", \"is_same\"]].to_numpy().astype(\"int\")"
   ]
  },
  {
   "cell_type": "code",
   "execution_count": null,
   "metadata": {},
   "outputs": [],
   "source": [
    "with open(\"train_and_test_inds.pkl\", \"wb\") as handle:\n",
    "    pickle.dump(sample_matrix, handle)"
   ]
  },
  {
   "cell_type": "code",
   "execution_count": null,
   "metadata": {},
   "outputs": [],
   "source": [
    "xs = [(i1, i2) for i1, i2, _ in sample_matrix] \n",
    "ys = [y for _, _, y in sample_matrix]"
   ]
  }
 ],
 "metadata": {
  "kernelspec": {
   "display_name": "Python 3",
   "language": "python",
   "name": "python3"
  },
  "language_info": {
   "codemirror_mode": {
    "name": "ipython",
    "version": 3
   },
   "file_extension": ".py",
   "mimetype": "text/x-python",
   "name": "python",
   "nbconvert_exporter": "python",
   "pygments_lexer": "ipython3",
   "version": "3.6.9"
  }
 },
 "nbformat": 4,
 "nbformat_minor": 2
}
