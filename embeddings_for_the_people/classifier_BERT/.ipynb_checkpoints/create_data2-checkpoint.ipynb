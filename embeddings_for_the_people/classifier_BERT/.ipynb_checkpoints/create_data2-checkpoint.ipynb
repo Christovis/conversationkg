{
 "cells": [
  {
   "cell_type": "code",
   "execution_count": 12,
   "metadata": {},
   "outputs": [],
   "source": [
    "import os\n",
    "import pickle\n",
    "from tqdm import tqdm\n",
    "import numpy as np\n",
    "import numpy.random as rand\n",
    "\n",
    "from collections import Counter\n",
    "import matplotlib.pyplot as plt\n",
    "\n",
    "\n",
    "import snorkel\n",
    "from snorkel.augmentation import transformation_function\n",
    "from snorkel.augmentation import RandomPolicy, MeanFieldPolicy\n",
    "from snorkel.augmentation import TFApplier, PandasTFApplier"
   ]
  },
  {
   "cell_type": "code",
   "execution_count": 2,
   "metadata": {},
   "outputs": [],
   "source": [
    "os.chdir(\"data\")"
   ]
  },
  {
   "cell_type": "markdown",
   "metadata": {},
   "source": [
    "# Preparation\n",
    "---\n",
    "## Load E-Mails & Converted E-Mails"
   ]
  },
  {
   "cell_type": "code",
   "execution_count": 3,
   "metadata": {},
   "outputs": [],
   "source": [
    "# \"../../../w3c-emails/emails.pkl\"\n",
    "with open(\"1000_emails.pkl\", \"rb\") as handle:\n",
    "    emails = [e for e in pickle.load(handle)]\n",
    "\n",
    "senders = [e.sender for e in emails]\n",
    "rng = list(range(len(emails)))"
   ]
  },
  {
   "cell_type": "code",
   "execution_count": 4,
   "metadata": {},
   "outputs": [],
   "source": [
    "# \"emails_token_ids.pkl\"\n",
    "with open(\"1000_emails_token_ids.pkl\", \"rb\") as handle:\n",
    "    email_ids = pickle.load(handle)"
   ]
  },
  {
   "cell_type": "markdown",
   "metadata": {},
   "source": [
    "## Group E-Mails by Sender"
   ]
  },
  {
   "cell_type": "code",
   "execution_count": null,
   "metadata": {},
   "outputs": [],
   "source": []
  },
  {
   "cell_type": "code",
   "execution_count": null,
   "metadata": {},
   "outputs": [],
   "source": []
  },
  {
   "cell_type": "code",
   "execution_count": 5,
   "metadata": {},
   "outputs": [],
   "source": [
    "@transformation_function()\n",
    "def positive_example(e):\n",
    "    e_id, auth_label = x\n",
    "    e_id, auth_label = e.ind, \n",
    "    auth_mails = by_author[auth_label]\n",
    "    return (e_id, rand.choice(by_author[auth_label])), 1\n",
    "\n",
    "\n",
    "@transformation_function()\n",
    "def negative_example(x):\n",
    "    e_id, auth_label = x\n",
    "    other_label = rand.choice(list(by_author.keys() - {auth_label}))\n",
    "    return (e_id, rand.choice(by_author[other_label])), 0\n",
    "\n",
    "tfs = [positive_example, negative_example]"
   ]
  },
  {
   "cell_type": "code",
   "execution_count": null,
   "metadata": {},
   "outputs": [],
   "source": []
  },
  {
   "cell_type": "code",
   "execution_count": null,
   "metadata": {},
   "outputs": [],
   "source": []
  },
  {
   "cell_type": "code",
   "execution_count": 6,
   "metadata": {},
   "outputs": [],
   "source": [
    "import pandas as pd"
   ]
  },
  {
   "cell_type": "code",
   "execution_count": 7,
   "metadata": {},
   "outputs": [],
   "source": [
    "mails_d = [{\"id\": e.id, \"author\": e.sender, \"body\": e.body_raw} for e in emails]\n",
    "\n",
    "mails_d = {\"index\": rng, \"id\": [e.id for e in emails], \n",
    "           \"author\": [e.sender for e in emails], \"body\": [e.body_raw for e in emails]}"
   ]
  },
  {
   "cell_type": "code",
   "execution_count": 8,
   "metadata": {},
   "outputs": [],
   "source": [
    "mail_frame = pd.DataFrame.from_dict(mails_d)"
   ]
  },
  {
   "cell_type": "code",
   "execution_count": 9,
   "metadata": {
    "collapsed": true
   },
   "outputs": [
    {
     "data": {
      "text/html": [
       "<div>\n",
       "<style scoped>\n",
       "    .dataframe tbody tr th:only-of-type {\n",
       "        vertical-align: middle;\n",
       "    }\n",
       "\n",
       "    .dataframe tbody tr th {\n",
       "        vertical-align: top;\n",
       "    }\n",
       "\n",
       "    .dataframe thead th {\n",
       "        text-align: right;\n",
       "    }\n",
       "</style>\n",
       "<table border=\"1\" class=\"dataframe\">\n",
       "  <thead>\n",
       "    <tr style=\"text-align: right;\">\n",
       "      <th></th>\n",
       "      <th>index</th>\n",
       "      <th>id</th>\n",
       "      <th>author</th>\n",
       "      <th>body</th>\n",
       "    </tr>\n",
       "  </thead>\n",
       "  <tbody>\n",
       "    <tr>\n",
       "      <th>0</th>\n",
       "      <td>0</td>\n",
       "      <td>000401bed467$49c94600$397138d4@omnibook1</td>\n",
       "      <td>jonathan chetwynd &lt;jonathan@signbrowser.free-o...</td>\n",
       "      <td>\\n\\n\\nI completely agree with your statement 1...</td>\n",
       "    </tr>\n",
       "    <tr>\n",
       "      <th>1</th>\n",
       "      <td>1</td>\n",
       "      <td>Pine.OSF.3.96.980222133016.7770B-100000@a5.ph....</td>\n",
       "      <td>Alan J. Flavell &lt;flavell@a5.ph.gla.ac.uk&gt;</td>\n",
       "      <td>\\n\\n\\n\\n[N.B This message is going to the WAI-...</td>\n",
       "    </tr>\n",
       "    <tr>\n",
       "      <th>2</th>\n",
       "      <td>2</td>\n",
       "      <td>613B3C619C9AD4118C4E00B0D03E7C3E3CAE3C@exchang...</td>\n",
       "      <td>Kevin Regan &lt;kevinr@valicert.com&gt;</td>\n",
       "      <td>\\n\\n\\n\\nI've been a way on other activities fo...</td>\n",
       "    </tr>\n",
       "    <tr>\n",
       "      <th>3</th>\n",
       "      <td>3</td>\n",
       "      <td>200105261428.f4QESdr24274@sophia.inria.fr</td>\n",
       "      <td>Roger McKenssy &lt;casting@altavista.com&gt;</td>\n",
       "      <td>\\n\\n\\nWe are looking for new faces for TV &amp; Mo...</td>\n",
       "    </tr>\n",
       "    <tr>\n",
       "      <th>4</th>\n",
       "      <td>4</td>\n",
       "      <td>3.0.5.32.19981007111638.009beb10@pophost.arbor...</td>\n",
       "      <td>Mike Champion &lt;mcc@arbortext.com&gt;</td>\n",
       "      <td>\\n\\n\\nAt 02:05 PM 10/7/98 +0100, \\\"Pasqualino ...</td>\n",
       "    </tr>\n",
       "  </tbody>\n",
       "</table>\n",
       "</div>"
      ],
      "text/plain": [
       "   index                                                 id  \\\n",
       "0      0           000401bed467$49c94600$397138d4@omnibook1   \n",
       "1      1  Pine.OSF.3.96.980222133016.7770B-100000@a5.ph....   \n",
       "2      2  613B3C619C9AD4118C4E00B0D03E7C3E3CAE3C@exchang...   \n",
       "3      3          200105261428.f4QESdr24274@sophia.inria.fr   \n",
       "4      4  3.0.5.32.19981007111638.009beb10@pophost.arbor...   \n",
       "\n",
       "                                              author  \\\n",
       "0  jonathan chetwynd <jonathan@signbrowser.free-o...   \n",
       "1          Alan J. Flavell <flavell@a5.ph.gla.ac.uk>   \n",
       "2                  Kevin Regan <kevinr@valicert.com>   \n",
       "3             Roger McKenssy <casting@altavista.com>   \n",
       "4                  Mike Champion <mcc@arbortext.com>   \n",
       "\n",
       "                                                body  \n",
       "0  \\n\\n\\nI completely agree with your statement 1...  \n",
       "1  \\n\\n\\n\\n[N.B This message is going to the WAI-...  \n",
       "2  \\n\\n\\n\\nI've been a way on other activities fo...  \n",
       "3  \\n\\n\\nWe are looking for new faces for TV & Mo...  \n",
       "4  \\n\\n\\nAt 02:05 PM 10/7/98 +0100, \\\"Pasqualino ...  "
      ]
     },
     "execution_count": 9,
     "metadata": {},
     "output_type": "execute_result"
    }
   ],
   "source": [
    "mail_frame.head()"
   ]
  },
  {
   "cell_type": "code",
   "execution_count": 11,
   "metadata": {},
   "outputs": [
    {
     "data": {
      "text/plain": [
       "(0, index                                                     0\n",
       " id                 000401bed467$49c94600$397138d4@omnibook1\n",
       " author    jonathan chetwynd <jonathan@signbrowser.free-o...\n",
       " body      \\n\\n\\nI completely agree with your statement 1...\n",
       " Name: 0, dtype: object)"
      ]
     },
     "execution_count": 11,
     "metadata": {},
     "output_type": "execute_result"
    }
   ],
   "source": [
    "@transformation_function()\n",
    "def positive_example_pd(row):\n",
    "    e_id, auth_label = row.index, row.author\n",
    "    return (e_id, rand.choice(by_author[auth_label])), (auth_label, auth_label)\n",
    "\n",
    "@transformation_function()\n",
    "def negative_example_pd(x):\n",
    "    e_id, auth_label = row.index, row.author\n",
    "    other_label = rand.choice(list(by_author.keys() - {auth_label}))\n",
    "    return (e_id, rand.choice(by_author[other_label])), (auth_label, other_label)\n",
    "\n",
    "tfs = [positive_example, negative_example]"
   ]
  },
  {
   "cell_type": "code",
   "execution_count": null,
   "metadata": {},
   "outputs": [],
   "source": [
    "mf_policy = MeanFieldPolicy(\n",
    "        len(tfs), sequence_length=1, p=[0.3, 0.7], n_per_original=2, keep_original=False\n",
    ")\n",
    "\n",
    "tf_applier = PandasTFApplier(tfs, mf_policy)\n",
    "samples = tf_applier.apply(mail_frame)"
   ]
  }
 ],
 "metadata": {
  "kernelspec": {
   "display_name": "Python 3",
   "language": "python",
   "name": "python3"
  },
  "language_info": {
   "codemirror_mode": {
    "name": "ipython",
    "version": 3
   },
   "file_extension": ".py",
   "mimetype": "text/x-python",
   "name": "python",
   "nbconvert_exporter": "python",
   "pygments_lexer": "ipython3",
   "version": "3.6.9"
  }
 },
 "nbformat": 4,
 "nbformat_minor": 2
}
