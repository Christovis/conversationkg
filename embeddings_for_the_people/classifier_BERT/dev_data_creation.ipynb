{
 "cells": [
  {
   "cell_type": "code",
   "execution_count": 1,
   "metadata": {},
   "outputs": [],
   "source": [
    "import pickle\n",
    "from tqdm import tqdm\n",
    "import numpy as np\n",
    "import numpy.random as rand\n",
    "\n",
    "\n",
    "import snorkel\n",
    "from snorkel.augmentation import transformation_function\n",
    "from snorkel.augmentation import RandomPolicy, MeanFieldPolicy\n",
    "from snorkel.augmentation import TFApplier"
   ]
  },
  {
   "cell_type": "code",
   "execution_count": null,
   "metadata": {},
   "outputs": [],
   "source": [
    "with open(\"../../../w3c-emails/emails.pkl\", \"rb\") as handle:\n",
    "    senders = [e.senders for e in pickle.load(handle)]"
   ]
  },
  {
   "cell_type": "code",
   "execution_count": null,
   "metadata": {},
   "outputs": [],
   "source": [
    "from transformers import DistilBertTokenizer"
   ]
  },
  {
   "cell_type": "code",
   "execution_count": 2,
   "metadata": {},
   "outputs": [],
   "source": [
    "with open(\"emails_token_ids.pkl\", \"rb\") as handle:\n",
    "    email_ids = pickle.load(handle)"
   ]
  },
  {
   "cell_type": "code",
   "execution_count": null,
   "metadata": {},
   "outputs": [],
   "source": [
    "inds = list(range(len(email_ids)))"
   ]
  },
  {
   "cell_type": "code",
   "execution_count": null,
   "metadata": {},
   "outputs": [],
   "source": [
    "by_author = {}\n",
    "\n",
    "for x, e in tqdm(zip(senders, inds)):\n",
    "    if not x in by_author:\n",
    "        by_author[x] = []\n",
    "    by_author[x].append(e)"
   ]
  },
  {
   "cell_type": "markdown",
   "metadata": {},
   "source": [
    "# Snorkel"
   ]
  },
  {
   "cell_type": "code",
   "execution_count": null,
   "metadata": {},
   "outputs": [],
   "source": [
    "@transformation_function()\n",
    "def positive_example(x):\n",
    "    e_id, auth_label = x\n",
    "    auth_mails = by_author[auth_label]\n",
    "    return (e_id, rand.choice(by_author[auth_label])), 1\n",
    "\n",
    "\n",
    "@transformation_function()\n",
    "def negative_example(x):\n",
    "    e_id, auth_label = x\n",
    "    other_label = rand.choice(list(by_author.keys() - {auth_label}))\n",
    "    return (e_id, rand.choice(by_author[other_label])), 0\n",
    "\n",
    "tfs = [positive_example, negative_example]"
   ]
  },
  {
   "cell_type": "code",
   "execution_count": null,
   "metadata": {},
   "outputs": [],
   "source": [
    "random_policy = RandomPolicy(\n",
    "        len(tfs), sequence_length=1, n_per_original=2, keep_original=False\n",
    ")\n",
    "\n",
    "mf_policy = MeanFieldPolicy(\n",
    "        len(tfs), sequence_length=1, p=[0.1, 0.9], n_per_original=2, keep_original=False\n",
    ")\n",
    "\n",
    "tf_applier = TFApplier(tfs, mf_policy)\n",
    "samples = tf_applier.apply(zip(inds, senders))"
   ]
  },
  {
   "cell_type": "markdown",
   "metadata": {},
   "source": [
    "# Split Data: Train, Eval, Test"
   ]
  },
  {
   "cell_type": "code",
   "execution_count": null,
   "metadata": {},
   "outputs": [],
   "source": [
    "ratio = int(len(samples) * 0.6)\n",
    "permuted = rand.permutation(samples)\n",
    "train, test = permuted[:ratio], permuted[ratio:]"
   ]
  },
  {
   "cell_type": "markdown",
   "metadata": {},
   "source": [
    "# Experimental Snorkel Stuff"
   ]
  },
  {
   "cell_type": "code",
   "execution_count": null,
   "metadata": {},
   "outputs": [],
   "source": [
    "from snorkel.labeling import LabelModel\n",
    "\n",
    "label_model = LabelModel(cardinality=2, verbose=True)\n",
    "label_model.fit(L_train=L_train, n_epochs=500, log_freq=100, seed=123)"
   ]
  }
 ],
 "metadata": {
  "kernelspec": {
   "display_name": "Python 3",
   "language": "python",
   "name": "python3"
  },
  "language_info": {
   "codemirror_mode": {
    "name": "ipython",
    "version": 3
   },
   "file_extension": ".py",
   "mimetype": "text/x-python",
   "name": "python",
   "nbconvert_exporter": "python",
   "pygments_lexer": "ipython3",
   "version": "3.6.9"
  }
 },
 "nbformat": 4,
 "nbformat_minor": 2
}
