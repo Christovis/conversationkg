{
 "cells": [
  {
   "cell_type": "code",
   "execution_count": 1,
   "metadata": {},
   "outputs": [],
   "source": [
    "import snorkel\n",
    "from snorkel.labeling import labeling_function\n",
    "from snorkel.augmentation import transformation_function\n",
    "\n",
    "import numpy as np\n",
    "import numpy.random as rand"
   ]
  },
  {
   "cell_type": "markdown",
   "metadata": {},
   "source": [
    "$\\forall$ author label $X:$ let $E_X = \\{e_1, ..., e_k\\}$ s.t. $\\forall e \\in E_X: author(e) = X$\n",
    "\n",
    "$\\exists$ person $\\gamma$ s.t. $X$ is a label for $\\gamma$ and $Y$ is a label for $\\gamma$ (i.e. $X = Y$)"
   ]
  },
  {
   "cell_type": "markdown",
   "metadata": {},
   "source": [
    "# Samples\n",
    "\n",
    " - any sample is $((e_1, e_2), b)$ with $e_1, e_2 \\in E$ and $b \\in \\{0, 1\\}$ and $b = 1$ iff $\\exists E_X$ s.t. $e_1, e_2 \\in E_X$ ($E_X$ may not be observed or $e_1, e_2 \\in E_X$ may not be observed)\n",
    "\n",
    "## positive samples $(b=1)$\n",
    "\n",
    " - number: $\\sum_X {|E_X| \\choose 2}$\n",
    " - trivial positive sample $\\forall e \\in E: ((e, e), 1)$\n",
    " - for each $X$, randomly draw $k$ tuples $(e_1, e_2)$ with $e_1, e_2 \\in E_X$ and $k$ proportional to $|E_X|$\n",
    " \n",
    " \n",
    "## negative samples $(b=0)$\n",
    "\n",
    " - randomly sample $X$ and $Y$, then randomly sample $e_X$ from $E_X$ and $e_Y$ from $E_Y$ to form sample $((e_X, e_Y), 0)$\n",
    " - with overwhelming probability, $X \\not= Y$, so that the created sample is most likely truly a negative one"
   ]
  },
  {
   "cell_type": "code",
   "execution_count": 2,
   "metadata": {},
   "outputs": [],
   "source": [
    "corpus = {\"a\": [1,2,3,4],\n",
    "          \"b\": [5,6,7],\n",
    "          \"c\": [8,9]}\n",
    "emails = list(corpus.values())\n",
    "emails2 = [(e, l) for l, e_ls in corpus.items() for e in e_ls]"
   ]
  },
  {
   "cell_type": "code",
   "execution_count": 40,
   "metadata": {},
   "outputs": [],
   "source": [
    "@transformation_function()\n",
    "def positive_example(x):\n",
    "    e_id, auth_label = x\n",
    "    auth_mails = corpus[auth_label]\n",
    "    return (e_id, rand.choice(corpus[auth_label])), 1\n",
    "\n",
    "\n",
    "@transformation_function()\n",
    "def negative_example(x):\n",
    "    e_id, auth_label = x\n",
    "    other_label = rand.choice(list(corpus.keys() - {auth_label}))\n",
    "    return (e_id, rand.choice(corpus[other_label])), 0"
   ]
  },
  {
   "cell_type": "code",
   "execution_count": 41,
   "metadata": {},
   "outputs": [],
   "source": [
    "tfs = [\n",
    "    positive_example,\n",
    "    negative_example\n",
    "]"
   ]
  },
  {
   "cell_type": "code",
   "execution_count": 42,
   "metadata": {},
   "outputs": [],
   "source": [
    "from snorkel.augmentation import RandomPolicy, MeanFieldPolicy\n",
    "from snorkel.augmentation import TFApplier\n",
    "\n",
    "random_policy = RandomPolicy(\n",
    "        len(tfs), sequence_length=1, n_per_original=2, keep_original=False\n",
    ")\n",
    "\n",
    "mf_policy = MeanFieldPolicy(\n",
    "        len(tfs), sequence_length=1, p=[0.1, 0.9], n_per_original=2, keep_original=False\n",
    ")\n",
    "\n",
    "tf_applier = TFApplier(tfs, mf_policy)\n",
    "samples = tf_applier.apply(emails2)"
   ]
  },
  {
   "cell_type": "code",
   "execution_count": null,
   "metadata": {},
   "outputs": [],
   "source": []
  },
  {
   "cell_type": "markdown",
   "metadata": {},
   "source": [
    "# Create real data (small)"
   ]
  },
  {
   "cell_type": "code",
   "execution_count": 11,
   "metadata": {},
   "outputs": [],
   "source": [
    "import pickle\n",
    "import numpy as np"
   ]
  },
  {
   "cell_type": "code",
   "execution_count": 2,
   "metadata": {},
   "outputs": [],
   "source": [
    "with open(\"first_twenty.pkl\", \"rb\") as handle:\n",
    "    first_twenty = pickle.load(handle)"
   ]
  },
  {
   "cell_type": "code",
   "execution_count": 6,
   "metadata": {},
   "outputs": [
    {
     "name": "stdout",
     "output_type": "stream",
     "text": [
      "(172, 768)\n",
      "(424, 768)\n",
      "(173, 768)\n",
      "(417, 768)\n",
      "(496, 768)\n",
      "(135, 768)\n",
      "(63, 768)\n",
      "(200, 768)\n",
      "(219, 768)\n",
      "(97, 768)\n",
      "(212, 768)\n",
      "(509, 768)\n",
      "(575, 768)\n",
      "(108, 768)\n",
      "(632, 768)\n",
      "(8, 768)\n",
      "(954, 768)\n",
      "(291, 768)\n",
      "(1442, 768)\n",
      "(8, 768)\n"
     ]
    }
   ],
   "source": [
    "for e in first_twenty:\n",
    "    print(e.shape)"
   ]
  },
  {
   "cell_type": "code",
   "execution_count": 35,
   "metadata": {},
   "outputs": [],
   "source": [
    "l = max(map(lambda e: e.shape[0], first_twenty))\n",
    "\n",
    "\n",
    "cut = np.asarray([e[:8, :] for e in first_twenty])\n",
    "\n",
    "padded = np.asarray([np.concatenate((e, np.zeros((l-e.shape[0], 768))))\n",
    "         for e in first_twenty])"
   ]
  }
 ],
 "metadata": {
  "kernelspec": {
   "display_name": "Python 3",
   "language": "python",
   "name": "python3"
  },
  "language_info": {
   "codemirror_mode": {
    "name": "ipython",
    "version": 3
   },
   "file_extension": ".py",
   "mimetype": "text/x-python",
   "name": "python",
   "nbconvert_exporter": "python",
   "pygments_lexer": "ipython3",
   "version": "3.6.9"
  }
 },
 "nbformat": 4,
 "nbformat_minor": 2
}
