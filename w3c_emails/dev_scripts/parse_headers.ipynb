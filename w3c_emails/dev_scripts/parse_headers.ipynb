{
 "cells": [
  {
   "cell_type": "markdown",
   "metadata": {},
   "source": [
    "# Process headers of emails\n",
    "\n",
    "Input is the list of emails of the original corpus.\n",
    "\n",
    " 1. Extract headers (including TO and CC) from each email, i.e. identify relevant lines\n",
    " 2. Parse header lines into variable name and value\n",
    " 3. Parse the values of extracted header variables (dates, email addresses)\n",
    " 4. Sort emails (headers + bodies) by time sent\n",
    " 5. Sort additionally into 'conversations' by grouping emails in which values of variables `id` and `inreplyto` match <br>\n",
    "    -> turns out a failure: almost all 'conversations' have length 1!"
   ]
  },
  {
   "cell_type": "code",
   "execution_count": 16,
   "metadata": {},
   "outputs": [],
   "source": [
    "import os\n",
    "from datetime import datetime\n",
    "from tqdm import tqdm\n",
    "import re\n",
    "import numpy as np\n",
    "from collections import Counter\n",
    "\n",
    "import html\n",
    "import email.utils as mailutil\n",
    "\n",
    "from dateutil.parser import parse as du_parse\n",
    "import datetime\n",
    "from datetime import timedelta\n",
    "\n",
    "import pickle"
   ]
  },
  {
   "cell_type": "markdown",
   "metadata": {},
   "source": [
    "## Read mails from files\n",
    "\n",
    " - already unescape HTML entities"
   ]
  },
  {
   "cell_type": "code",
   "execution_count": 2,
   "metadata": {},
   "outputs": [
    {
     "name": "stderr",
     "output_type": "stream",
     "text": [
      "100%|██████████| 161645/161645 [01:10<00:00, 2293.87it/s]\n"
     ]
    }
   ],
   "source": [
    "mails = []\n",
    "for f in tqdm(os.listdir(\"files\")):\n",
    "    with open(\"files/\"+f) as handle:\n",
    "        mails.append(list(map(html.unescape, handle.readlines())))"
   ]
  },
  {
   "cell_type": "markdown",
   "metadata": {},
   "source": [
    "## Extract headers and TO & CC\n",
    "\n",
    " - header lines have format var=value\n",
    " - header lines exclusively at the top of email and no more than 12\n",
    " - to & cc have format var:value; cc optional; may be mixed with lines of email body"
   ]
  },
  {
   "cell_type": "code",
   "execution_count": 3,
   "metadata": {},
   "outputs": [],
   "source": [
    "header_pattern = re.compile(r\"([a-z]+)=([\\w\\W]+)\")\n",
    "to_pattern = re.compile(r\"[tT][oO]:([\\w\\W]+)\")\n",
    "cc_pattern = re.compile(r\"[cC][cC]:([\\w\\W]+)\")\n",
    "\n",
    "def extract_meta(mail):\n",
    "    d = {}\n",
    "    mail_content = []\n",
    "    for i, line in enumerate(mail):\n",
    "        match_or_none = header_pattern.match(line)\n",
    "        if match_or_none and i <= 11:\n",
    "            k, v = match_or_none.groups()\n",
    "            d[k.lower()] = v\n",
    "        elif to_pattern.match(line):\n",
    "            d[\"to\"] = mailutil.parseaddr(line)\n",
    "        elif cc_pattern.match(line):\n",
    "            d[\"cc\"] = mailutil.parseaddr(line)\n",
    "        else:\n",
    "            mail_content.append(line)\n",
    "    mail_content = \"\".join(mail_content)\n",
    "    return d, mail_content"
   ]
  },
  {
   "cell_type": "markdown",
   "metadata": {},
   "source": [
    "## Parse headers\n",
    "\n",
    " - remove trailing new line and surrounding quotes for each header line\n",
    " - currently: use subset `sent`, `id`, `name`, `email`, `subject`, `inreplyto`, `to`, `cc`\n",
    " - parse field `sent` with `dateutil`\n",
    " - parse field `email` with `email.utils` -> ensures field's value only consists of address\n",
    " - currently: filter mail if field `to` not in header, fields `cc` and `inreplyto` optional\n",
    " - TODO:\n",
    "   - re-parse output of `email.utils` to ensure that extracted address is a valid email address\n",
    " \n",
    " \n",
    " - finally, remove mails for which parsing of header fails (currently 17682 mails):\n",
    "   - 2 have no field `name` in the header\n",
    "   - 1524 have no field `to`\n",
    "   - 11254 emails have value in field `sent` which can't be parsed by `dateutil` <br> \n",
    "     (11252 of these have issue with time zone, mainly missing `+` or `-`) \n",
    "   - 5264 emails have no parseable timezone information\n",
    "   - 2 emails have timezone offsets outside of 24-hour range\n",
    "   \n",
    " - leaves 143963 emails, out of the original 161645 (or 89%)"
   ]
  },
  {
   "cell_type": "code",
   "execution_count": 4,
   "metadata": {
    "scrolled": true
   },
   "outputs": [],
   "source": [
    "def prep_line(s):\n",
    "    return s.strip().strip(\"\\\"\").strip('\\'')\n",
    "\n",
    "def process_time_sent(s):\n",
    "    dt = du_parse(s)\n",
    "    \n",
    "    if not dt.tzinfo:\n",
    "            raise ValueError(\"No timezone information in parse!\", s)\n",
    "            dt = dt.replace(tzinfo=datetime.timezone.utc)\n",
    "    if dt.tzinfo.utcoffset(dt) > timedelta(hours=24) or\\\n",
    "            dt.tzinfo.utcoffset(dt) < -timedelta(hours=24):\n",
    "        print(\"Timezone outside of 24 hours: \", dt.tzinfo.utcoffset(dt))\n",
    "        raise ValueError(\"Timezone outside of 24 hours: \", dt.tzinfo.utcoffset(dt))\n",
    "    return dt\n",
    "    \n",
    "    \n",
    "\n",
    "def parse_header(d):\n",
    "    d = {k: prep_line(v) if type(v) is str else v for k, v in d.items()}\n",
    "    new_d = {}\n",
    "    try:\n",
    "        new_d[\"sent\"] = process_time_sent(d[\"sent\"])\n",
    "        new_d[\"id\"] = d[\"id\"]\n",
    "        new_d[\"name\"] = d[\"name\"]\n",
    "        new_d[\"email\"] = mailutil.parseaddr(d[\"email\"])[1]\n",
    "        new_d[\"subject\"] = d[\"subject\"]\n",
    "        new_d[\"inreplyto\"] = d[\"inreplyto\"] if \"inreplyto\" in d else None\n",
    "        new_d[\"to\"] = d[\"to\"]\n",
    "        new_d[\"cc\"] = d[\"cc\"] if \"cc\" in d else None\n",
    "        return new_d\n",
    "    except Exception as e:\n",
    "        parse_header.errors.append(e)\n",
    "        return None     \n",
    "parse_header.errors=[]        "
   ]
  },
  {
   "cell_type": "code",
   "execution_count": 5,
   "metadata": {},
   "outputs": [
    {
     "name": "stderr",
     "output_type": "stream",
     "text": [
      "0it [00:00, ?it/s]/home/valentin/.local/lib/python3.6/site-packages/dateutil/parser/_parser.py:1206: UnknownTimezoneWarning: tzname PST identified but not understood.  Pass `tzinfos` argument in order to correctly return a timezone-aware datetime.  In a future version, this will raise an exception.\n",
      "  category=UnknownTimezoneWarning)\n",
      "116it [00:00, 284.54it/s]/home/valentin/.local/lib/python3.6/site-packages/dateutil/parser/_parser.py:1206: UnknownTimezoneWarning: tzname EST identified but not understood.  Pass `tzinfos` argument in order to correctly return a timezone-aware datetime.  In a future version, this will raise an exception.\n",
      "  category=UnknownTimezoneWarning)\n",
      "/home/valentin/.local/lib/python3.6/site-packages/dateutil/parser/_parser.py:1206: UnknownTimezoneWarning: tzname EDT identified but not understood.  Pass `tzinfos` argument in order to correctly return a timezone-aware datetime.  In a future version, this will raise an exception.\n",
      "  category=UnknownTimezoneWarning)\n",
      "316it [00:00, 383.06it/s]/home/valentin/.local/lib/python3.6/site-packages/dateutil/parser/_parser.py:1206: UnknownTimezoneWarning: tzname PDT identified but not understood.  Pass `tzinfos` argument in order to correctly return a timezone-aware datetime.  In a future version, this will raise an exception.\n",
      "  category=UnknownTimezoneWarning)\n",
      "/home/valentin/.local/lib/python3.6/site-packages/dateutil/parser/_parser.py:1206: UnknownTimezoneWarning: tzname CST identified but not understood.  Pass `tzinfos` argument in order to correctly return a timezone-aware datetime.  In a future version, this will raise an exception.\n",
      "  category=UnknownTimezoneWarning)\n",
      "483it [00:00, 498.09it/s]/home/valentin/.local/lib/python3.6/site-packages/dateutil/parser/_parser.py:1206: UnknownTimezoneWarning: tzname MDT identified but not understood.  Pass `tzinfos` argument in order to correctly return a timezone-aware datetime.  In a future version, this will raise an exception.\n",
      "  category=UnknownTimezoneWarning)\n",
      "1119it [00:00, 1016.46it/s]/home/valentin/.local/lib/python3.6/site-packages/dateutil/parser/_parser.py:1206: UnknownTimezoneWarning: tzname CDT identified but not understood.  Pass `tzinfos` argument in order to correctly return a timezone-aware datetime.  In a future version, this will raise an exception.\n",
      "  category=UnknownTimezoneWarning)\n",
      "1465it [00:01, 1279.28it/s]/home/valentin/.local/lib/python3.6/site-packages/dateutil/parser/_parser.py:1206: UnknownTimezoneWarning: tzname UT identified but not understood.  Pass `tzinfos` argument in order to correctly return a timezone-aware datetime.  In a future version, this will raise an exception.\n",
      "  category=UnknownTimezoneWarning)\n",
      "2138it [00:01, 1523.84it/s]/home/valentin/.local/lib/python3.6/site-packages/dateutil/parser/_parser.py:1206: UnknownTimezoneWarning: tzname MET identified but not understood.  Pass `tzinfos` argument in order to correctly return a timezone-aware datetime.  In a future version, this will raise an exception.\n",
      "  category=UnknownTimezoneWarning)\n",
      "2710it [00:01, 1692.06it/s]/home/valentin/.local/lib/python3.6/site-packages/dateutil/parser/_parser.py:1206: UnknownTimezoneWarning: tzname BST identified but not understood.  Pass `tzinfos` argument in order to correctly return a timezone-aware datetime.  In a future version, this will raise an exception.\n",
      "  category=UnknownTimezoneWarning)\n",
      "4304it [00:02, 2005.56it/s]/home/valentin/.local/lib/python3.6/site-packages/dateutil/parser/_parser.py:1206: UnknownTimezoneWarning: tzname U identified but not understood.  Pass `tzinfos` argument in order to correctly return a timezone-aware datetime.  In a future version, this will raise an exception.\n",
      "  category=UnknownTimezoneWarning)\n",
      "13621it [00:07, 1932.00it/s]/home/valentin/.local/lib/python3.6/site-packages/dateutil/parser/_parser.py:1206: UnknownTimezoneWarning: tzname MST identified but not understood.  Pass `tzinfos` argument in order to correctly return a timezone-aware datetime.  In a future version, this will raise an exception.\n",
      "  category=UnknownTimezoneWarning)\n",
      "30625it [00:16, 1928.72it/s]/home/valentin/.local/lib/python3.6/site-packages/dateutil/parser/_parser.py:1206: UnknownTimezoneWarning: tzname EET identified but not understood.  Pass `tzinfos` argument in order to correctly return a timezone-aware datetime.  In a future version, this will raise an exception.\n",
      "  category=UnknownTimezoneWarning)\n",
      "134696it [01:20, 1816.31it/s]"
     ]
    },
    {
     "name": "stdout",
     "output_type": "stream",
     "text": [
      "Timezone outside of 24 hours:  -2 days, 17:00:00\n"
     ]
    },
    {
     "name": "stderr",
     "output_type": "stream",
     "text": [
      "134893it [01:20, 1859.67it/s]/home/valentin/.local/lib/python3.6/site-packages/dateutil/parser/_parser.py:1206: UnknownTimezoneWarning: tzname E identified but not understood.  Pass `tzinfos` argument in order to correctly return a timezone-aware datetime.  In a future version, this will raise an exception.\n",
      "  category=UnknownTimezoneWarning)\n",
      "157791it [01:33, 1799.59it/s]"
     ]
    },
    {
     "name": "stdout",
     "output_type": "stream",
     "text": [
      "Timezone outside of 24 hours:  -2 days, 20:00:00\n"
     ]
    },
    {
     "name": "stderr",
     "output_type": "stream",
     "text": [
      "161645it [01:35, 1688.14it/s]\n"
     ]
    }
   ],
   "source": [
    "# do extract_meta and parse_headers in one step (otherwise RAM overflow)\n",
    "parsed_gen = (extract_meta(m) for m in mails)\n",
    "extracted_gen = ((parse_header(h), mc) for h, mc in parsed_gen)\n",
    "headers_fltrd, mails_fltrd = list(zip(*((h, m) for h, m in tqdm(extracted_gen) if h)))"
   ]
  },
  {
   "cell_type": "markdown",
   "metadata": {},
   "source": [
    "## Dump parsed (and sorted) headers together with their emails"
   ]
  },
  {
   "cell_type": "code",
   "execution_count": 7,
   "metadata": {},
   "outputs": [],
   "source": [
    "headers_srtd, mails_srtd = list(zip(*sorted(zip(headers_fltrd, mails_fltrd), key=lambda t: t[0][\"sent\"])))\n",
    "\n",
    "with open(\"headers_processed.pkl\", \"wb\") as handle:\n",
    "    pickle.dump((headers_srtd, mails_srtd), handle)"
   ]
  }
 ],
 "metadata": {
  "kernelspec": {
   "display_name": "Python 3",
   "language": "python",
   "name": "python3"
  },
  "language_info": {
   "codemirror_mode": {
    "name": "ipython",
    "version": 3
   },
   "file_extension": ".py",
   "mimetype": "text/x-python",
   "name": "python",
   "nbconvert_exporter": "python",
   "pygments_lexer": "ipython3",
   "version": "3.6.9"
  }
 },
 "nbformat": 4,
 "nbformat_minor": 2
}
