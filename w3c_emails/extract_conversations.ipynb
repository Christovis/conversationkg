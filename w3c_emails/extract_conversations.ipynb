{
 "cells": [
  {
   "cell_type": "code",
   "execution_count": 1,
   "metadata": {},
   "outputs": [],
   "source": [
    "import pickle\n",
    "import os\n",
    "# from datetime import datetime\n",
    "from tqdm import tqdm\n",
    "import re\n",
    "import numpy as np\n",
    "# from collections import Counter\n",
    "\n",
    "# import html\n",
    "# import email.utils as mailutil\n",
    "\n",
    "# from dateutil.parser import parse as du_parse\n",
    "# import datetime\n",
    "# from datetime import timedelta"
   ]
  },
  {
   "cell_type": "code",
   "execution_count": 2,
   "metadata": {},
   "outputs": [],
   "source": [
    "with open(\"headers_processed.pkl\", \"rb\") as handle:\n",
    "    headers_srtd, mails_srtd = pickle.load(handle)"
   ]
  },
  {
   "cell_type": "markdown",
   "metadata": {},
   "source": [
    "## Sort emails into conversation structure\n",
    "\n",
    " - first: sort by time sent (field `sent`)\n",
    " - second: group into conversations by doing for each email:\n",
    "   1. if email has `inreplyto=None`, start new conversation\n",
    "   2. else look up email with ID corresponding to `inreplyto` value\n",
    "     - if there is no other email with the `id` that was given by `inreplyto`, also start a new conversation\n",
    "     \n",
    "   -> each separate list of emails is a 'conversation', i.e. all in reply to each other and in correct temporal order\n",
    "   \n",
    "\n",
    " - sorting by time sent seems to work, original corpus was randomly ordered\n",
    " - grouping into conversations by `inreplyto` does not work well, as extracted conversations <br>\n",
    "   turn out to be very short (overwhelming majority consists of a single email) <br>\n",
    "   -> refrain from this for now, later steps are only sorted according to time sent "
   ]
  },
  {
   "cell_type": "code",
   "execution_count": 3,
   "metadata": {},
   "outputs": [
    {
     "name": "stderr",
     "output_type": "stream",
     "text": [
      "100%|██████████| 143963/143963 [00:00<00:00, 379557.64it/s]\n"
     ]
    }
   ],
   "source": [
    "convos = []\n",
    "ids = {}\n",
    "\n",
    "i = 0\n",
    "id_not_found = []            \n",
    "for h in tqdm(headers_srtd):\n",
    "    if h[\"inreplyto\"] is None or h[\"inreplyto\"] not in ids:\n",
    "        convos.append([h])\n",
    "        ids[h[\"id\"]] = i # need to check if ID actually exists! -> runs fine without (weird?)\n",
    "        i += 1\n",
    "        \n",
    "        if h[\"inreplyto\"] not in ids:\n",
    "            id_not_found.append(h)\n",
    "    else:\n",
    "        convos[ids[h[\"inreplyto\"]]].append(h)\n",
    "        ids[h[\"id\"]] = ids[h[\"inreplyto\"]] # need to check if ID actually exists!        "
   ]
  },
  {
   "cell_type": "code",
   "execution_count": 30,
   "metadata": {},
   "outputs": [],
   "source": [
    "real_convos = [c for c in convos if len(c) > 1]\n",
    "with open(\"real_conversations.pkl\", \"wb\") as handle:\n",
    "    pickle.dump(real_convos, handle)"
   ]
  },
  {
   "cell_type": "code",
   "execution_count": 4,
   "metadata": {},
   "outputs": [
    {
     "name": "stdout",
     "output_type": "stream",
     "text": [
      "number of emails:  143963\n",
      "number of extracted conversations:  90605\n",
      "mean, median and standard dev. of conversation length (in number of emails)\n",
      " 1.589 1.0 1.9\n"
     ]
    },
    {
     "data": {
      "text/plain": [
       "<Figure size 640x480 with 1 Axes>"
      ]
     },
     "metadata": {},
     "output_type": "display_data"
    }
   ],
   "source": [
    "print(\"number of emails: \", len(headers_srtd))\n",
    "print(\"number of extracted conversations: \", len(convos))\n",
    "\n",
    "lens = list(map(len, convos))\n",
    "print(\"mean, median and standard dev. of conversation length (in number of emails)\\n\", \n",
    "      round(np.mean(lens), 3), np.median(lens), round(np.var(lens)**.5, 3))\n",
    "\n",
    "import matplotlib.pyplot as plt\n",
    "plt.hist([l for l in lens if l < 20], bins=20)\n",
    "plt.title(\"'Conversation' length histogram\")\n",
    "plt.xlabel(\"conversation length in number of emails\")\n",
    "plt.ylabel(\"number of conversations\")\n",
    "plt.show()"
   ]
  },
  {
   "cell_type": "markdown",
   "metadata": {},
   "source": [
    "---\n",
    "\n",
    "## Using Snorkel to learn the function which sort e-mails into conversations"
   ]
  },
  {
   "cell_type": "code",
   "execution_count": 37,
   "metadata": {},
   "outputs": [],
   "source": [
    "from snorkel.labeling import labeling_function\n",
    "from snorkel.labeling import LFApplier\n",
    "from snorkel.labeling import LFAnalysis\n",
    "\n",
    "\n",
    "CONV = 1\n",
    "NOT_CONV = 0\n",
    "ABSTAIN = -1\n"
   ]
  },
  {
   "cell_type": "code",
   "execution_count": 9,
   "metadata": {},
   "outputs": [],
   "source": [
    "@labeling_function()\n",
    "def sent_earlier_than(mail_tuple):\n",
    "    mail1, mail2 = mail_tuple\n",
    "    return ABSTAIN if mail1[\"sent\"] < mail2[\"sent\"] else NOT_CONV\n",
    "\n",
    "@labeling_function()\n",
    "def is_inreplyto(mail_tuple):\n",
    "    mail1, mail2 = mail_tuple\n",
    "    return CONV if mail1[\"inreplyto\"] == mail2[\"id\"] else ABSTAIN\n",
    "\n",
    "applier = LFApplier([sent_earlier_than, is_inreplyto])"
   ]
  },
  {
   "cell_type": "code",
   "execution_count": 32,
   "metadata": {},
   "outputs": [
    {
     "name": "stderr",
     "output_type": "stream",
     "text": [
      "13023it [00:00, 130223.60it/s]"
     ]
    },
    {
     "name": "stdout",
     "output_type": "stream",
     "text": [
      "53358\n"
     ]
    },
    {
     "name": "stderr",
     "output_type": "stream",
     "text": [
      "103358it [00:00, 111538.84it/s]\n"
     ]
    }
   ],
   "source": [
    "import numpy.random as rand\n",
    "\n",
    "real_tups = [(c[i], c[i+1]) for c in real_convos for i in range(len(c)-1)]\n",
    "rand_tups = [(h1, h2) for h1, h2 in zip(rand.choice(headers_srtd, 50000), rand.choice(headers_srtd, 50000))]\n",
    "print(len(real_tups))\n",
    "\n",
    "labels = applier.apply(real_tups + rand_tups)"
   ]
  },
  {
   "cell_type": "code",
   "execution_count": 36,
   "metadata": {},
   "outputs": [
    {
     "name": "stdout",
     "output_type": "stream",
     "text": [
      "sent_earlier_than coverage: 25.1%\n",
      "is_inreplyto coverage: 0.0%\n"
     ]
    }
   ],
   "source": [
    "coverage_sent_earlier_than, coverage_is_inreplyto = (labels != ABSTAIN).mean(axis=0)\n",
    "print(f\"sent_earlier_than coverage: {coverage_sent_earlier_than * 100:.1f}%\")\n",
    "print(f\"is_inreplyto coverage: {coverage_is_inreplyto * 100:.1f}%\")\n"
   ]
  },
  {
   "cell_type": "code",
   "execution_count": 38,
   "metadata": {},
   "outputs": [
    {
     "data": {
      "text/html": [
       "<div>\n",
       "<style scoped>\n",
       "    .dataframe tbody tr th:only-of-type {\n",
       "        vertical-align: middle;\n",
       "    }\n",
       "\n",
       "    .dataframe tbody tr th {\n",
       "        vertical-align: top;\n",
       "    }\n",
       "\n",
       "    .dataframe thead th {\n",
       "        text-align: right;\n",
       "    }\n",
       "</style>\n",
       "<table border=\"1\" class=\"dataframe\">\n",
       "  <thead>\n",
       "    <tr style=\"text-align: right;\">\n",
       "      <th></th>\n",
       "      <th>j</th>\n",
       "      <th>Polarity</th>\n",
       "      <th>Coverage</th>\n",
       "      <th>Overlaps</th>\n",
       "      <th>Conflicts</th>\n",
       "    </tr>\n",
       "  </thead>\n",
       "  <tbody>\n",
       "    <tr>\n",
       "      <th>sent_earlier_than</th>\n",
       "      <td>0</td>\n",
       "      <td>[0]</td>\n",
       "      <td>0.250789</td>\n",
       "      <td>0.0</td>\n",
       "      <td>0.0</td>\n",
       "    </tr>\n",
       "    <tr>\n",
       "      <th>is_inreplyto</th>\n",
       "      <td>1</td>\n",
       "      <td>[]</td>\n",
       "      <td>0.000000</td>\n",
       "      <td>0.0</td>\n",
       "      <td>0.0</td>\n",
       "    </tr>\n",
       "  </tbody>\n",
       "</table>\n",
       "</div>"
      ],
      "text/plain": [
       "                   j Polarity  Coverage  Overlaps  Conflicts\n",
       "sent_earlier_than  0      [0]  0.250789       0.0        0.0\n",
       "is_inreplyto       1       []  0.000000       0.0        0.0"
      ]
     },
     "execution_count": 38,
     "metadata": {},
     "output_type": "execute_result"
    }
   ],
   "source": [
    "LFAnalysis(L=labels, lfs=[sent_earlier_than, is_inreplyto]).lf_summary()"
   ]
  }
 ],
 "metadata": {
  "kernelspec": {
   "display_name": "Python 3",
   "language": "python",
   "name": "python3"
  },
  "language_info": {
   "codemirror_mode": {
    "name": "ipython",
    "version": 3
   },
   "file_extension": ".py",
   "mimetype": "text/x-python",
   "name": "python",
   "nbconvert_exporter": "python",
   "pygments_lexer": "ipython3",
   "version": "3.6.9"
  }
 },
 "nbformat": 4,
 "nbformat_minor": 2
}
