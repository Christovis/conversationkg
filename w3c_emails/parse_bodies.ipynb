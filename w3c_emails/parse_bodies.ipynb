{
 "cells": [
  {
   "cell_type": "code",
   "execution_count": 1,
   "metadata": {},
   "outputs": [],
   "source": [
    "import pickle\n",
    "import re"
   ]
  },
  {
   "cell_type": "code",
   "execution_count": 2,
   "metadata": {},
   "outputs": [],
   "source": [
    "# load emails from pickle file where headers are parsed and separated from bodies \n",
    "# and emails sorted by time sent\n",
    "\n",
    "with open(\"headers_processed.pkl\", \"rb\") as handle:\n",
    "    headers_srtd, mails_srtd = pickle.load(handle)"
   ]
  },
  {
   "cell_type": "markdown",
   "metadata": {},
   "source": [
    "## Extract quoted text (from previous emails)\n",
    "\n",
    " - first, match the opening line of quoted text <br>\n",
    "   (usually something like '_On Monday, 01 Jan 2000, Firstname Lastname wrote:_', although small differences making parsing difficult) <br>\n",
    "   (some also have a line containing '_---Original Message---_' followed by a normal email header as the opening)\n",
    " - a quoted line is almost always indicated by leading '>' (sometimes also by leading '|') <br>\n",
    "   vice versa also seems to be the case\n",
    "   \n",
    "   \n",
    " - for now, simply remove the quoted text; later try to create a new email instance from it or at least put as attachment\n",
    " - removal leads to a reduction of lines by 21% (8.6e6 to 6.7e6)"
   ]
  },
  {
   "cell_type": "code",
   "execution_count": 3,
   "metadata": {},
   "outputs": [],
   "source": [
    "quote_opening_pattern =\\\n",
    "    re.compile(r\"(?:^(?:[aA]t|[Oo]n)\\s([\\W\\w]+)\\s(?:([\\w\\.-]+@[\\w\\.-]+)|([a-zA-Z]+))\\s(?:wrote|writes):)|(?:[^a-zA-Z]*[Oo]riginal message[^a-zA-Z]*)\")\n",
    "\n",
    "quote_pattern = re.compile(r\"^(>|\\|)[\\W\\w]+\") # [ \\t]\n",
    "\n",
    "\n",
    "def remove_quoted_text(mail):\n",
    "    for line in mail.split(\"\\n\"):\n",
    "        if quote_opening_pattern.match(line) or quote_pattern.match(line):\n",
    "            continue\n",
    "        yield line\n",
    "        \n",
    "mails_pure = [\"\\n\".join(remove_quoted_text(m)) for m in mails_srtd]"
   ]
  },
  {
   "cell_type": "markdown",
   "metadata": {},
   "source": [
    "## Write processed emails to pickle file"
   ]
  },
  {
   "cell_type": "code",
   "execution_count": 4,
   "metadata": {},
   "outputs": [],
   "source": [
    "with open(\"headers_and_bodies_processed.pkl\", \"wb\") as handle:\n",
    "    pickle.dump((headers_srtd, mails_pure), handle)"
   ]
  },
  {
   "cell_type": "code",
   "execution_count": 5,
   "metadata": {},
   "outputs": [],
   "source": [
    "# quote_open_pattern =\\\n",
    "#     re.compile(r\"(?:^(?:[aA]t|[Oo]n)\\s([\\W\\w]+)\\s(?:([\\w\\.-]+@[\\w\\.-]+)|([a-zA-Z]+))\\s(?:wrote|writes):)|(?:[^a-zA-Z]*[Oo]riginal message[^a-zA-Z]*)\")\n",
    "\n",
    "# def read_quoted(mail_iter, open_line):\n",
    "#     yield open_line\n",
    "    \n",
    "#     next_l = next(mail_iter)\n",
    "#     yield next_l\n",
    "    \n",
    "#     while next_l.startswith(\">\") or next_l.startswith(\" >\") or (not next_l.strip()):\n",
    "#         try:\n",
    "#             next_l = next(mail_iter)\n",
    "#             yield next_l\n",
    "#         except StopIteration:\n",
    "#             return\n",
    "    \n",
    "# def extract_quoted_text(mail_lines):\n",
    "#     mail_iter = iter(mail_lines)\n",
    "    \n",
    "#     non_quoted_lines = []\n",
    "    \n",
    "#     quotes = []\n",
    "    \n",
    "#     for l in mail_iter:\n",
    "#         if quote_open_pattern.match(l):\n",
    "#             quoted_block = list(read_quoted(mail_iter, l))\n",
    "#             quotes.append(quoted_block)\n",
    "#         else:\n",
    "#             non_quoted_lines.append(l)\n",
    "            \n",
    "#     return non_quoted_lines, quotes\n",
    "    \n",
    "# def extract_quoted_text(mail_lines):\n",
    "#     mail_iter = iter(mail_lines)\n",
    "    \n",
    "#     quotes = []\n",
    "#     non_quoted_lines = []\n",
    "        \n",
    "#     for l in mail_iter:\n",
    "#         if quote_open_pattern.match(l):\n",
    "#             quotes.append(l)\n",
    "#         elif l.startswith(\">\") or l.startswith(\" >\"):\n",
    "#             quotes.append(l)\n",
    "#         else:\n",
    "#             non_quoted_lines.append(l)\n",
    "            \n",
    "#     return non_quoted_lines, quotes"
   ]
  }
 ],
 "metadata": {
  "kernelspec": {
   "display_name": "Python 3",
   "language": "python",
   "name": "python3"
  },
  "language_info": {
   "codemirror_mode": {
    "name": "ipython",
    "version": 3
   },
   "file_extension": ".py",
   "mimetype": "text/x-python",
   "name": "python",
   "nbconvert_exporter": "python",
   "pygments_lexer": "ipython3",
   "version": "3.6.9"
  }
 },
 "nbformat": 4,
 "nbformat_minor": 2
}
