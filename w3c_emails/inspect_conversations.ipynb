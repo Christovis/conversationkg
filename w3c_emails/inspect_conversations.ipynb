{
 "cells": [
  {
   "cell_type": "markdown",
   "metadata": {},
   "source": [
    "# Conversations\n",
    "---"
   ]
  },
  {
   "cell_type": "code",
   "execution_count": 24,
   "metadata": {},
   "outputs": [],
   "source": [
    "import pickle\n",
    "import matplotlib.pyplot as plt\n",
    "from collections import Counter\n",
    "import numpy as np"
   ]
  },
  {
   "cell_type": "code",
   "execution_count": 10,
   "metadata": {},
   "outputs": [
    {
     "name": "stdout",
     "output_type": "stream",
     "text": [
      "Number of conversations:  90605\n"
     ]
    }
   ],
   "source": [
    "with open(\"conversations.pkl\", \"rb\") as handle:\n",
    "    convos = pickle.load(handle)\n",
    "print(\"Number of conversations: \", len(convos))"
   ]
  },
  {
   "cell_type": "markdown",
   "metadata": {},
   "source": [
    "---\n",
    "## Excerpt from Conversational Graph\n",
    "\n",
    "beige=conversation, orange=person, green=document, red=organisation\n",
    "\n",
    "<img src=\"./example-vis.png\" alt=\"Example Conversation Graphs\"\n",
    "\ttitle=\"Example Conversation Graphs\" width=\"1500\" height=\"1000\" />\n",
    "\n",
    "\n",
    "---"
   ]
  },
  {
   "cell_type": "code",
   "execution_count": 22,
   "metadata": {},
   "outputs": [
    {
     "data": {
      "image/png": "[encoded data removed]",
      "text/plain": [
       "<Figure size 432x288 with 1 Axes>"
      ]
     },
     "metadata": {},
     "output_type": "display_data"
    }
   ],
   "source": [
    "conv_len_counts = Counter(map(len, convos))\n",
    "lens, counts = list(zip(*conv_len_counts.items()))\n",
    "\n",
    "plt.loglog(lens, counts, '.'); plt.title(\"Rank-Frequency plot of conversation lengths\"); plt.xlabel(\"$\\log$ rank\"); y = plt.ylabel(\"$\\log$ frequency\")"
   ]
  },
  {
   "cell_type": "code",
   "execution_count": 33,
   "metadata": {},
   "outputs": [
    {
     "name": "stdout",
     "output_type": "stream",
     "text": [
      "Number of people per conversation (avg, std dev)\t\t 2.485 \t 1.1751595636338072\n",
      "Number of organisations per conversation (avg, std dev)\t\t 2.219 \t 0.9055385138137416\n"
     ]
    }
   ],
   "source": [
    "per_conv_people = sorted([set(c.interlocutors) for c in convos], key=lambda s: len(s), reverse=True)\n",
    "lens = list(map(len, per_conv_people))\n",
    "print(\"Number of people per conversation (avg, std dev)\\t\\t\", np.mean(lens).round(3), \"\\t\", np.var(lens).round(3)**.5)\n",
    "\n",
    "per_conv_orgs = sorted([set(c.orgs) for c in convos], key=lambda s: len(s), reverse=True)\n",
    "lens = list(map(len, per_conv_orgs))\n",
    "print(\"Number of organisations per conversation (avg, std dev)\\t\\t\", np.mean(lens).round(3), \"\\t\", np.var(lens).round(3)**.5)"
   ]
  }
 ],
 "metadata": {
  "kernelspec": {
   "display_name": "Python 3",
   "language": "python",
   "name": "python3"
  },
  "language_info": {
   "codemirror_mode": {
    "name": "ipython",
    "version": 3
   },
   "file_extension": ".py",
   "mimetype": "text/x-python",
   "name": "python",
   "nbconvert_exporter": "python",
   "pygments_lexer": "ipython3",
   "version": "3.6.9"
  }
 },
 "nbformat": 4,
 "nbformat_minor": 2
}
