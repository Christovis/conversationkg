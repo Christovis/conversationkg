{
 "cells": [
  {
   "cell_type": "markdown",
   "metadata": {},
   "source": [
    " ### Classes `Email` and `Conversation`\n",
    " \n",
    "  - outsourced all pre-processing, parsing and structuring functionality to `process_emails.py`\n",
    "  - `Email` (obviously) represents an e-mail, currently the fields of the header is parsed (just like in `parse_headers.ipynb?`) and the e-mail body is used as the raw text\n",
    "  \n",
    "  - `Conversation` takes a list of `Email` instances (it can also construct the list of e-mails which form a conversation from the data set) and from them extracts and structures lists of itnerlocutors, mentioned docs, etc\n",
    "  "
   ]
  },
  {
   "cell_type": "code",
   "execution_count": 1,
   "metadata": {},
   "outputs": [],
   "source": [
    "import os\n",
    "import pickle\n",
    "from tqdm import tqdm\n",
    "\n",
    "import re\n",
    "import html\n",
    "\n",
    "# from collections import Counter\n",
    "# import matplotlib.pyplot as plt\n",
    "\n",
    "from process_emails import Email, Conversation"
   ]
  },
  {
   "cell_type": "code",
   "execution_count": 2,
   "metadata": {
    "scrolled": true
   },
   "outputs": [
    {
     "name": "stderr",
     "output_type": "stream",
     "text": [
      "100%|██████████| 161645/161645 [00:12<00:00, 12660.13it/s]\n"
     ]
    }
   ],
   "source": [
    "mails = []\n",
    "for f in tqdm(os.listdir(\"files\")):\n",
    "    with open(\"files/\"+f) as handle:\n",
    "        mails.append(list(map(html.unescape, handle.readlines())))"
   ]
  },
  {
   "cell_type": "code",
   "execution_count": 3,
   "metadata": {
    "collapsed": true
   },
   "outputs": [
    {
     "name": "stderr",
     "output_type": "stream",
     "text": [
      "  0%|          | 0/161645 [00:00<?, ?it/s]/home/valentin/.local/lib/python3.6/site-packages/dateutil/parser/_parser.py:1206: UnknownTimezoneWarning: tzname PST identified but not understood.  Pass `tzinfos` argument in order to correctly return a timezone-aware datetime.  In a future version, this will raise an exception.\n",
      "  category=UnknownTimezoneWarning)\n",
      "  0%|          | 173/161645 [00:00<01:33, 1728.81it/s]/home/valentin/.local/lib/python3.6/site-packages/dateutil/parser/_parser.py:1206: UnknownTimezoneWarning: tzname EST identified but not understood.  Pass `tzinfos` argument in order to correctly return a timezone-aware datetime.  In a future version, this will raise an exception.\n",
      "  category=UnknownTimezoneWarning)\n",
      "/home/valentin/.local/lib/python3.6/site-packages/dateutil/parser/_parser.py:1206: UnknownTimezoneWarning: tzname EDT identified but not understood.  Pass `tzinfos` argument in order to correctly return a timezone-aware datetime.  In a future version, this will raise an exception.\n",
      "  category=UnknownTimezoneWarning)\n",
      "/home/valentin/.local/lib/python3.6/site-packages/dateutil/parser/_parser.py:1206: UnknownTimezoneWarning: tzname PDT identified but not understood.  Pass `tzinfos` argument in order to correctly return a timezone-aware datetime.  In a future version, this will raise an exception.\n",
      "  category=UnknownTimezoneWarning)\n",
      "  0%|          | 333/161645 [00:00<01:35, 1682.95it/s]/home/valentin/.local/lib/python3.6/site-packages/dateutil/parser/_parser.py:1206: UnknownTimezoneWarning: tzname CST identified but not understood.  Pass `tzinfos` argument in order to correctly return a timezone-aware datetime.  In a future version, this will raise an exception.\n",
      "  category=UnknownTimezoneWarning)\n",
      "  0%|          | 502/161645 [00:00<01:35, 1683.22it/s]/home/valentin/.local/lib/python3.6/site-packages/dateutil/parser/_parser.py:1206: UnknownTimezoneWarning: tzname MDT identified but not understood.  Pass `tzinfos` argument in order to correctly return a timezone-aware datetime.  In a future version, this will raise an exception.\n",
      "  category=UnknownTimezoneWarning)\n",
      "  1%|          | 1018/161645 [00:00<01:33, 1721.82it/s]/home/valentin/.local/lib/python3.6/site-packages/dateutil/parser/_parser.py:1206: UnknownTimezoneWarning: tzname CDT identified but not understood.  Pass `tzinfos` argument in order to correctly return a timezone-aware datetime.  In a future version, this will raise an exception.\n",
      "  category=UnknownTimezoneWarning)\n",
      "  1%|          | 1569/161645 [00:00<01:30, 1759.87it/s]/home/valentin/.local/lib/python3.6/site-packages/dateutil/parser/_parser.py:1206: UnknownTimezoneWarning: tzname UT identified but not understood.  Pass `tzinfos` argument in order to correctly return a timezone-aware datetime.  In a future version, this will raise an exception.\n",
      "  category=UnknownTimezoneWarning)\n",
      "  1%|▏         | 2296/161645 [00:01<01:53, 1407.09it/s]/home/valentin/.local/lib/python3.6/site-packages/dateutil/parser/_parser.py:1206: UnknownTimezoneWarning: tzname MET identified but not understood.  Pass `tzinfos` argument in order to correctly return a timezone-aware datetime.  In a future version, this will raise an exception.\n",
      "  category=UnknownTimezoneWarning)\n",
      "  2%|▏         | 2818/161645 [00:01<01:43, 1531.95it/s]/home/valentin/.local/lib/python3.6/site-packages/dateutil/parser/_parser.py:1206: UnknownTimezoneWarning: tzname BST identified but not understood.  Pass `tzinfos` argument in order to correctly return a timezone-aware datetime.  In a future version, this will raise an exception.\n",
      "  category=UnknownTimezoneWarning)\n",
      "  3%|▎         | 4270/161645 [00:02<01:26, 1811.74it/s]/home/valentin/.local/lib/python3.6/site-packages/dateutil/parser/_parser.py:1206: UnknownTimezoneWarning: tzname U identified but not understood.  Pass `tzinfos` argument in order to correctly return a timezone-aware datetime.  In a future version, this will raise an exception.\n",
      "  category=UnknownTimezoneWarning)\n",
      "  8%|▊         | 13546/161645 [00:07<01:18, 1881.66it/s]/home/valentin/.local/lib/python3.6/site-packages/dateutil/parser/_parser.py:1206: UnknownTimezoneWarning: tzname MST identified but not understood.  Pass `tzinfos` argument in order to correctly return a timezone-aware datetime.  In a future version, this will raise an exception.\n",
      "  category=UnknownTimezoneWarning)\n",
      " 19%|█▉        | 30531/161645 [00:17<01:12, 1798.72it/s]/home/valentin/.local/lib/python3.6/site-packages/dateutil/parser/_parser.py:1206: UnknownTimezoneWarning: tzname EET identified but not understood.  Pass `tzinfos` argument in order to correctly return a timezone-aware datetime.  In a future version, this will raise an exception.\n",
      "  category=UnknownTimezoneWarning)\n",
      " 83%|████████▎ | 134595/161645 [01:15<00:17, 1563.16it/s]"
     ]
    },
    {
     "name": "stdout",
     "output_type": "stream",
     "text": [
      "Timezone outside of 24 hours:  -2 days, 17:00:00\n"
     ]
    },
    {
     "name": "stderr",
     "output_type": "stream",
     "text": [
      " 83%|████████▎ | 134788/161645 [01:15<00:16, 1657.62it/s]/home/valentin/.local/lib/python3.6/site-packages/dateutil/parser/_parser.py:1206: UnknownTimezoneWarning: tzname E identified but not understood.  Pass `tzinfos` argument in order to correctly return a timezone-aware datetime.  In a future version, this will raise an exception.\n",
      "  category=UnknownTimezoneWarning)\n",
      " 98%|█████████▊| 157777/161645 [01:27<00:01, 1981.14it/s]"
     ]
    },
    {
     "name": "stdout",
     "output_type": "stream",
     "text": [
      "Timezone outside of 24 hours:  -2 days, 20:00:00\n"
     ]
    },
    {
     "name": "stderr",
     "output_type": "stream",
     "text": [
      "100%|██████████| 161645/161645 [01:29<00:00, 1812.09it/s]\n"
     ]
    }
   ],
   "source": [
    "email_objs = [Email(m) for m in tqdm(mails)]\n",
    "fltrd_emails = [m for m in email_objs if m.has_header]\n",
    "\n",
    "with open(\"emails.pkl\", \"wb\") as handle:\n",
    "    pickle.dump(fltrd_emails, handle)"
   ]
  },
  {
   "cell_type": "code",
   "execution_count": 4,
   "metadata": {
    "scrolled": true
   },
   "outputs": [],
   "source": [
    "mails_srtd = sorted(fltrd_emails, key=lambda m: m.sent)\n",
    "convos = Conversation.conversations_from_sorted_emails(mails_srtd)"
   ]
  },
  {
   "cell_type": "markdown",
   "metadata": {},
   "source": [
    "---\n",
    "## Collect relation instances from Conversation objects"
   ]
  },
  {
   "cell_type": "code",
   "execution_count": 16,
   "metadata": {},
   "outputs": [
    {
     "name": "stdout",
     "output_type": "stream",
     "text": [
      "(4885062280232913288, ('F0B6E827-1DD2-11B2-B516-000393556882@ontologicon.com',)) \n",
      "\n",
      "(4885062280232913288, datetime.datetime(1970, 1, 1, 2, 6, 11, tzinfo=tzoffset(None, 7200))) \n",
      "\n",
      "(4885062280232913288, datetime.datetime(1970, 1, 1, 2, 6, 11, tzinfo=tzoffset(None, 7200))) \n",
      "\n",
      "(4885062280232913288, Dimitris Dimitriadis <dimitris@ontologicon.com>) \n",
      "\n",
      "(-2500555230501122677, <process_emails.Link object at 0x7f180ce37f28>) \n",
      "\n"
     ]
    }
   ],
   "source": [
    "conv_dict = {hash(c): c for c in convos}\n",
    "\n",
    "# EvidencedBy(Conv, mail_1, ..., mail_n) => represented as EvidencedBy(Conv, [mail_1, ..., mail_n])\n",
    "evidencedBy = [(hash(c), c.emails) for c in convos]\n",
    "print(evidencedBy[0], \"\\n\")\n",
    "\n",
    "# StartsAt(Conv, time)\n",
    "startsAt = [(hash(c), c.start_time) for c in convos]\n",
    "print(startsAt[0], \"\\n\")\n",
    "\n",
    "# EndsAt(Conv, time)\n",
    "endsAt = [(hash(c), c.end_time) for c in convos]\n",
    "print(endsAt[0], \"\\n\")\n",
    "\n",
    "# Interlocutor(Conv, Person) => use set to get rid of duplicates\n",
    "hasInterlocutor = [(hash(c), p) for c in convos for p in c.interlocutors]\n",
    "print(hasInterlocutor[0], \"\\n\")\n",
    "\n",
    "\n",
    "# RefersTo(Conv, doc) where doc is Link or Address\n",
    "refersTo = [(hash(c), d) for c in convos for d in c.mentioned_links+c.mentioned_addresses]\n",
    "print(refersTo[0], \"\\n\")\n",
    "\n",
    "\n",
    "# BelongsTo(Person, Org)\n",
    "belongsTo = {p: p.org for c in convos for p in c.interlocutors if p.org}"
   ]
  },
  {
   "cell_type": "code",
   "execution_count": 18,
   "metadata": {
    "scrolled": true
   },
   "outputs": [
    {
     "name": "stdout",
     "output_type": "stream",
     "text": [
      "--- Example Conversation ---\n",
      "\n",
      "\n",
      "Interlocutors:\n",
      "\t Tim Bray <tbray@textuality.com> \t\t\t belongs to org:  textuality.com\n",
      "\t Rick Jelliffe <ricko@allette.com.au> \t\t\t belongs to org:  allette.com.au\n",
      "\t Gavin Nicol <gtn@ebt.com> \t\t\t belongs to org:  ebt.com\n",
      "\t Rick Jelliffe <ricko@allette.com.au> \t\t\t belongs to org:  allette.com.au\n",
      "\t Rick Jelliffe <ricko@allette.com.au> \t\t\t belongs to org:  allette.com.au\n",
      "\t Rick Jelliffe <ricko@allette.com.au> \t\t\t belongs to org:  allette.com.au\n",
      "\t Gavin Nicol <gtn@ebt.com> \t\t\t belongs to org:  ebt.com\n",
      "\t Gavin Nicol <gtn@ebt.com> \t\t\t belongs to org:  ebt.com\n",
      "\t Gavin Nicol <gtn@ebt.com> \t\t\t belongs to org:  ebt.com\n",
      "\t Rick Jelliffe <ricko@allette.com.au> \t\t\t belongs to org:  allette.com.au\n",
      "\t Gavin Nicol <gtn@ebt.com> \t\t\t belongs to org:  ebt.com\n",
      "\t  <w3c-sgml-wg@w3.org> \t\t\t belongs to org:  w3.org\n",
      "\t Tim Bray <tbray@textuality.com> \t\t\t belongs to org:  textuality.com\n",
      "\t  <ricko@allette.com.au> \t\t\t belongs to org:  allette.com.au\n",
      "\t Gavin Nicol <gtn@ebt.com> \t\t\t belongs to org:  ebt.com\n",
      "\t Gavin Nicol <gtn@ebt.com> \t\t\t belongs to org:  ebt.com\n",
      "\t  <w3c-sgml-wg@w3.org> \t\t\t belongs to org:  w3.org\n",
      "\t  <ricko@allette.com.au> \t\t\t belongs to org:  allette.com.au\n",
      "\t  <ricko@allette.com.au> \t\t\t belongs to org:  allette.com.au\n",
      "\t  <ricko@allette.com.au> \t\t\t belongs to org:  allette.com.au\n",
      "\t Gavin Nicol <gtn@ebt.com> \t\t\t belongs to org:  ebt.com\n",
      "\t  <ricko@allette.com.au> \t\t\t belongs to org:  allette.com.au\n",
      "\n",
      "__________________\n",
      "Docs mentioned:\n",
      "http://www.textuality.com/ \t\t domain:  www.textuality.com \t path:  /\n",
      "http://www.allette.com.au/allette/ricko \t\t domain:  www.allette.com.au \t path:  /allette/ricko\n",
      "http://www.allette.com.au \t\t domain:  www.allette.com.au \t path:  \n",
      "http://www.allette.com.au/allette/ricko \t\t domain:  www.allette.com.au \t path:  /allette/ricko\n",
      "http://www.allette.com.au \t\t domain:  www.allette.com.au \t path:  \n",
      "http://www.allette.com.au/allette/ricko \t\t domain:  www.allette.com.au \t path:  /allette/ricko\n",
      "http://www.allette.com.au \t\t domain:  www.allette.com.au \t path:  \n",
      "http://www.textuality.com/sgml-erb/baby/, \t\t domain:  www.textuality.com \t path:  /sgml-erb/baby/,\n",
      "http://www.allette.com.au/allette/ricko \t\t domain:  www.allette.com.au \t path:  /allette/ricko\n",
      "http://www.allette.com.au \t\t domain:  www.allette.com.au \t path:  \n",
      "http://www.allette.com.au/allette/ricko \t\t domain:  www.allette.com.au \t path:  /allette/ricko\n",
      "http://www.allette.com.au \t\t domain:  www.allette.com.au \t path:  \n",
      "tbray@textuality.com \t part of org:  textuality.com\n",
      "ricko@allette.com.au \t part of org:  allette.com.au\n",
      "info@allette.com.au \t part of org:  allette.com.au\n",
      "ricko@allette.com.au \t part of org:  allette.com.au\n",
      "info@allette.com.au \t part of org:  allette.com.au\n",
      "ricko@allette.com.au \t part of org:  allette.com.au\n",
      "info@allette.com.au \t part of org:  allette.com.au\n",
      "ricko@allette.com.au \t part of org:  allette.com.au\n",
      "info@allette.com.au \t part of org:  allette.com.au\n",
      "ricko@allette.com.au \t part of org:  allette.com.au\n",
      "info@allette.com.au \t part of org:  allette.com.au\n"
     ]
    }
   ],
   "source": [
    "print(\"--- Example Conversation ---\\n\\n\")\n",
    "\n",
    "c = convos[737]\n",
    "\n",
    "print(\"Interlocutors:\")\n",
    "for p in c.interlocutors:\n",
    "    print(\"\\t\", p, \"\\t\\t\\t belongs to org: \", belongsTo[p])\n",
    "    \n",
    "print(\"\\n__________________\")\n",
    "print(\"Docs mentioned:\")\n",
    "\n",
    "for l in c.mentioned_links:\n",
    "    print(l.url, \"\\t\\t domain: \", l.domain, \"\\t path: \", l.path)\n",
    "    \n",
    "for a in c.mentioned_addresses:\n",
    "    print(a.address, \"\\t part of org: \", a.org) "
   ]
  }
 ],
 "metadata": {
  "kernelspec": {
   "display_name": "Python 3",
   "language": "python",
   "name": "python3"
  },
  "language_info": {
   "codemirror_mode": {
    "name": "ipython",
    "version": 3
   },
   "file_extension": ".py",
   "mimetype": "text/x-python",
   "name": "python",
   "nbconvert_exporter": "python",
   "pygments_lexer": "ipython3",
   "version": "3.6.9"
  }
 },
 "nbformat": 4,
 "nbformat_minor": 2
}
