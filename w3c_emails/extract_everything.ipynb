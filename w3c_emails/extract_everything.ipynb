{
 "cells": [
  {
   "cell_type": "markdown",
   "metadata": {},
   "source": [
    " ### Classes `Email` and `Conversation`\n",
    " \n",
    "  - outsourced all pre-processing, parsing and structuring functionality to `process_emails.py`\n",
    "  - `Email` (obviously) represents an e-mail, currently the fields of the header is parsed (just like in `parse_headers.ipynb?`) and the e-mail body is used as the raw text\n",
    "  \n",
    "  - `Conversation` takes a list of `Email` instances (it can also construct the list of e-mails which form a conversation from the data set) and from them extracts and structures lists of itnerlocutors, mentioned docs, etc\n",
    "  "
   ]
  },
  {
   "cell_type": "code",
   "execution_count": 3,
   "metadata": {},
   "outputs": [],
   "source": [
    "import os\n",
    "import pickle\n",
    "from tqdm import tqdm\n",
    "\n",
    "import re\n",
    "import html\n",
    "\n",
    "# from collections import Counter\n",
    "# import matplotlib.pyplot as plt\n",
    "\n",
    "from class_declarations import Email, Conversation, Ledger"
   ]
  },
  {
   "cell_type": "code",
   "execution_count": 4,
   "metadata": {},
   "outputs": [],
   "source": [
    "ledger = Ledger()"
   ]
  },
  {
   "cell_type": "code",
   "execution_count": 5,
   "metadata": {
    "scrolled": true
   },
   "outputs": [
    {
     "name": "stderr",
     "output_type": "stream",
     "text": [
      "100%|██████████| 161645/161645 [01:00<00:00, 2654.43it/s]\n"
     ]
    }
   ],
   "source": [
    "mails = []\n",
    "for f in tqdm(os.listdir(\"files\")):\n",
    "    with open(\"files/\"+f) as handle:\n",
    "        mails.append(list(map(html.unescape, handle.readlines())))"
   ]
  },
  {
   "cell_type": "code",
   "execution_count": 6,
   "metadata": {
    "scrolled": true
   },
   "outputs": [
    {
     "name": "stderr",
     "output_type": "stream",
     "text": [
      "  0%|          | 0/161645 [00:00<?, ?it/s]/home/valentin/.local/lib/python3.6/site-packages/dateutil/parser/_parser.py:1206: UnknownTimezoneWarning: tzname PST identified but not understood.  Pass `tzinfos` argument in order to correctly return a timezone-aware datetime.  In a future version, this will raise an exception.\n",
      "  category=UnknownTimezoneWarning)\n",
      "  0%|          | 108/161645 [00:00<02:30, 1074.59it/s]/home/valentin/.local/lib/python3.6/site-packages/dateutil/parser/_parser.py:1206: UnknownTimezoneWarning: tzname EST identified but not understood.  Pass `tzinfos` argument in order to correctly return a timezone-aware datetime.  In a future version, this will raise an exception.\n",
      "  category=UnknownTimezoneWarning)\n",
      "/home/valentin/.local/lib/python3.6/site-packages/dateutil/parser/_parser.py:1206: UnknownTimezoneWarning: tzname EDT identified but not understood.  Pass `tzinfos` argument in order to correctly return a timezone-aware datetime.  In a future version, this will raise an exception.\n",
      "  category=UnknownTimezoneWarning)\n",
      "  0%|          | 256/161645 [00:00<02:18, 1169.14it/s]/home/valentin/.local/lib/python3.6/site-packages/dateutil/parser/_parser.py:1206: UnknownTimezoneWarning: tzname PDT identified but not understood.  Pass `tzinfos` argument in order to correctly return a timezone-aware datetime.  In a future version, this will raise an exception.\n",
      "  category=UnknownTimezoneWarning)\n",
      "  0%|          | 388/161645 [00:00<02:13, 1208.20it/s]/home/valentin/.local/lib/python3.6/site-packages/dateutil/parser/_parser.py:1206: UnknownTimezoneWarning: tzname CST identified but not understood.  Pass `tzinfos` argument in order to correctly return a timezone-aware datetime.  In a future version, this will raise an exception.\n",
      "  category=UnknownTimezoneWarning)\n",
      "  0%|          | 475/161645 [00:00<04:30, 596.85it/s] /home/valentin/.local/lib/python3.6/site-packages/dateutil/parser/_parser.py:1206: UnknownTimezoneWarning: tzname MDT identified but not understood.  Pass `tzinfos` argument in order to correctly return a timezone-aware datetime.  In a future version, this will raise an exception.\n",
      "  category=UnknownTimezoneWarning)\n",
      "  1%|          | 1133/161645 [00:01<02:25, 1104.30it/s]/home/valentin/.local/lib/python3.6/site-packages/dateutil/parser/_parser.py:1206: UnknownTimezoneWarning: tzname CDT identified but not understood.  Pass `tzinfos` argument in order to correctly return a timezone-aware datetime.  In a future version, this will raise an exception.\n",
      "  category=UnknownTimezoneWarning)\n",
      "  1%|          | 1544/161645 [00:01<02:06, 1264.89it/s]/home/valentin/.local/lib/python3.6/site-packages/dateutil/parser/_parser.py:1206: UnknownTimezoneWarning: tzname UT identified but not understood.  Pass `tzinfos` argument in order to correctly return a timezone-aware datetime.  In a future version, this will raise an exception.\n",
      "  category=UnknownTimezoneWarning)\n",
      "  1%|▏         | 2224/161645 [00:01<02:02, 1301.33it/s]/home/valentin/.local/lib/python3.6/site-packages/dateutil/parser/_parser.py:1206: UnknownTimezoneWarning: tzname MET identified but not understood.  Pass `tzinfos` argument in order to correctly return a timezone-aware datetime.  In a future version, this will raise an exception.\n",
      "  category=UnknownTimezoneWarning)\n",
      "  2%|▏         | 2771/161645 [00:02<01:58, 1345.36it/s]/home/valentin/.local/lib/python3.6/site-packages/dateutil/parser/_parser.py:1206: UnknownTimezoneWarning: tzname BST identified but not understood.  Pass `tzinfos` argument in order to correctly return a timezone-aware datetime.  In a future version, this will raise an exception.\n",
      "  category=UnknownTimezoneWarning)\n",
      "  3%|▎         | 4274/161645 [00:03<01:53, 1380.93it/s]/home/valentin/.local/lib/python3.6/site-packages/dateutil/parser/_parser.py:1206: UnknownTimezoneWarning: tzname U identified but not understood.  Pass `tzinfos` argument in order to correctly return a timezone-aware datetime.  In a future version, this will raise an exception.\n",
      "  category=UnknownTimezoneWarning)\n",
      "  8%|▊         | 13564/161645 [00:11<01:58, 1252.37it/s]/home/valentin/.local/lib/python3.6/site-packages/dateutil/parser/_parser.py:1206: UnknownTimezoneWarning: tzname MST identified but not understood.  Pass `tzinfos` argument in order to correctly return a timezone-aware datetime.  In a future version, this will raise an exception.\n",
      "  category=UnknownTimezoneWarning)\n",
      " 19%|█▉        | 30598/161645 [00:27<01:52, 1163.12it/s]/home/valentin/.local/lib/python3.6/site-packages/dateutil/parser/_parser.py:1206: UnknownTimezoneWarning: tzname EET identified but not understood.  Pass `tzinfos` argument in order to correctly return a timezone-aware datetime.  In a future version, this will raise an exception.\n",
      "  category=UnknownTimezoneWarning)\n",
      " 83%|████████▎ | 134636/161645 [01:48<00:20, 1294.73it/s]"
     ]
    },
    {
     "name": "stdout",
     "output_type": "stream",
     "text": [
      "Timezone outside of 24 hours:  -2 days, 17:00:00\n"
     ]
    },
    {
     "name": "stderr",
     "output_type": "stream",
     "text": [
      " 83%|████████▎ | 134773/161645 [01:49<00:20, 1311.36it/s]/home/valentin/.local/lib/python3.6/site-packages/dateutil/parser/_parser.py:1206: UnknownTimezoneWarning: tzname E identified but not understood.  Pass `tzinfos` argument in order to correctly return a timezone-aware datetime.  In a future version, this will raise an exception.\n",
      "  category=UnknownTimezoneWarning)\n",
      " 98%|█████████▊| 157693/161645 [02:06<00:02, 1362.07it/s]"
     ]
    },
    {
     "name": "stdout",
     "output_type": "stream",
     "text": [
      "Timezone outside of 24 hours:  -2 days, 20:00:00\n"
     ]
    },
    {
     "name": "stderr",
     "output_type": "stream",
     "text": [
      "100%|██████████| 161645/161645 [02:09<00:00, 1248.65it/s]\n"
     ]
    }
   ],
   "source": [
    "email_objs = [Email(m, ledger) for m in tqdm(mails)]\n",
    "fltrd_emails = [m for m in email_objs if m.has_header]\n",
    "\n",
    "with open(\"emails.pkl\", \"wb\") as handle:\n",
    "    pickle.dump(fltrd_emails, handle)"
   ]
  },
  {
   "cell_type": "code",
   "execution_count": 7,
   "metadata": {
    "scrolled": true
   },
   "outputs": [],
   "source": [
    "load = False\n",
    "if load:\n",
    "    with open(\"emails.pkl\", \"rb\") as handle:\n",
    "        fltrd_emails = pickle.load(handle)\n",
    "\n",
    "mails_srtd = sorted(fltrd_emails, key=lambda m: m.sent)\n",
    "convos = Conversation.conversations_from_sorted_emails(mails_srtd, ledger)\n",
    "\n",
    "with open(\"conversations.pkl\", \"wb\") as handle:\n",
    "    pickle.dump(convos, handle)"
   ]
  },
  {
   "cell_type": "markdown",
   "metadata": {},
   "source": [
    "---\n",
    "## Collect relation instances from Conversation objects"
   ]
  },
  {
   "cell_type": "code",
   "execution_count": 10,
   "metadata": {},
   "outputs": [
    {
     "name": "stdout",
     "output_type": "stream",
     "text": [
      "(-7941893237740906599, ('AMEPKEBLDJJCCDEJHAMIAEJMCHAA.ejw@cse.ucsc.edu',)) \n",
      "\n",
      "(-7941893237740906599, datetime.datetime(2001, 1, 18, 11, 2, 1, tzinfo=tzoffset(None, -28800))) \n",
      "\n",
      "(-7941893237740906599, datetime.datetime(2001, 1, 18, 11, 2, 1, tzinfo=tzoffset(None, -28800))) \n",
      "\n",
      "(2522554939845907609, WAI Interest Group <w3c-wai-ig@w3.org>) \n",
      "\n",
      "(1970517829089622015, <process_emails_provenance.Address object at 0x7f616d24ca90>) \n",
      "\n"
     ]
    }
   ],
   "source": [
    "conv_dict = {hash(c): c for c in convos}\n",
    "\n",
    "i = 31347\n",
    "\n",
    "# EvidencedBy(Conv, mail_1, ..., mail_n) => represented as EvidencedBy(Conv, [mail_1, ..., mail_n])\n",
    "evidencedBy = [(hash(c), c.emails) for c in convos]\n",
    "print(evidencedBy[i], \"\\n\")\n",
    "\n",
    "# StartsAt(Conv, time)-\n",
    "startsAt = [(hash(c), c.start_time) for c in convos]\n",
    "print(startsAt[i], \"\\n\")\n",
    "\n",
    "# EndsAt(Conv, time)\n",
    "endsAt = [(hash(c), c.end_time) for c in convos]\n",
    "print(endsAt[i], \"\\n\")\n",
    "\n",
    "# Interlocutor(Conv, Person) => use set to get rid of duplicates\n",
    "hasInterlocutor = [(hash(c), p) for c in convos for p in (c.interlocutors or [[]])]\n",
    "print(hasInterlocutor[i], \"\\n\")\n",
    "\n",
    "\n",
    "# RefersTo(Conv, doc) where doc is Link or Address\n",
    "refersTo = [(hash(c), d) for c in convos for d in (c.mentioned_links+c.mentioned_addresses or [[]])]\n",
    "print(refersTo[i], \"\\n\")\n",
    "\n",
    "\n",
    "# BelongsTo(Person, Org)\n",
    "belongsTo = {p: p.org for c in convos for p in c.interlocutors if p.org}"
   ]
  },
  {
   "cell_type": "code",
   "execution_count": 11,
   "metadata": {},
   "outputs": [
    {
     "data": {
      "text/plain": [
       "(90605, 90605, 287926, 462011, 143963, 28041, 28097, 11847)"
      ]
     },
     "execution_count": 11,
     "metadata": {},
     "output_type": "execute_result"
    }
   ],
   "source": [
    "len(convos), len(startsAt), len(hasInterlocutor), len(refersTo), len(fltrd_emails), len(belongsTo),\\\n",
    "len(set({p for c in convos for p in c.interlocutors})),\\\n",
    "len(set({p.org for c in convos for p in c.interlocutors if p.org}))"
   ]
  },
  {
   "cell_type": "code",
   "execution_count": 12,
   "metadata": {
    "scrolled": true
   },
   "outputs": [
    {
     "name": "stdout",
     "output_type": "stream",
     "text": [
      "--- Example Conversation ---\n",
      "\n",
      "\n",
      "Interlocutors:\n",
      "\t Tim Bray <tbray@textuality.com> \t\t\t belongs to org:  textuality.com\n",
      "\t Rick Jelliffe <ricko@allette.com.au> \t\t\t belongs to org:  allette.com.au\n",
      "\t Gavin Nicol <gtn@ebt.com> \t\t\t belongs to org:  ebt.com\n",
      "\t  <w3c-sgml-wg@w3.org> \t\t\t belongs to org:  w3.org\n",
      "\t  <ricko@allette.com.au> \t\t\t belongs to org:  allette.com.au\n",
      "\n",
      "__________________\n",
      "Docs mentioned:\n",
      "http://www.textuality.com/ \t\t domain:  www.textuality.com \t path:  /\n",
      "http://www.allette.com.au \t\t domain:  www.allette.com.au \t path:  \n",
      "http://www.allette.com.au \t\t domain:  www.allette.com.au \t path:  \n",
      "http://www.allette.com.au \t\t domain:  www.allette.com.au \t path:  \n",
      "http://www.allette.com.au \t\t domain:  www.allette.com.au \t path:  \n",
      "http://www.allette.com.au/allette/ricko \t\t domain:  www.allette.com.au \t path:  /allette/ricko\n",
      "http://www.allette.com.au \t\t domain:  www.allette.com.au \t path:  \n",
      "http://www.allette.com.au/allette/ricko \t\t domain:  www.allette.com.au \t path:  /allette/ricko\n",
      "http://www.allette.com.au/allette/ricko \t\t domain:  www.allette.com.au \t path:  /allette/ricko\n",
      "http://www.allette.com.au/allette/ricko \t\t domain:  www.allette.com.au \t path:  /allette/ricko\n",
      "http://www.allette.com.au/allette/ricko \t\t domain:  www.allette.com.au \t path:  /allette/ricko\n",
      "http://www.textuality.com/sgml-erb/baby/, \t\t domain:  www.textuality.com \t path:  /sgml-erb/baby/,\n",
      "ricko@allette.com.au \t part of org:  allette.com.au\n",
      "ricko@allette.com.au \t part of org:  allette.com.au\n",
      "ricko@allette.com.au \t part of org:  allette.com.au\n",
      "ricko@allette.com.au \t part of org:  allette.com.au\n",
      "info@allette.com.au \t part of org:  allette.com.au\n",
      "info@allette.com.au \t part of org:  allette.com.au\n",
      "info@allette.com.au \t part of org:  allette.com.au\n",
      "ricko@allette.com.au \t part of org:  allette.com.au\n",
      "info@allette.com.au \t part of org:  allette.com.au\n",
      "tbray@textuality.com \t part of org:  textuality.com\n",
      "info@allette.com.au \t part of org:  allette.com.au\n"
     ]
    }
   ],
   "source": [
    "print(\"--- Example Conversation ---\\n\\n\")\n",
    "\n",
    "c = convos[737]\n",
    "\n",
    "print(\"Interlocutors:\")\n",
    "for p in set(c.interlocutors):\n",
    "    print(\"\\t\", p, \"\\t\\t\\t belongs to org: \", belongsTo[p])\n",
    "    \n",
    "print(\"\\n__________________\")\n",
    "print(\"Docs mentioned:\")\n",
    "\n",
    "for l in set(c.mentioned_links):\n",
    "    print(l.url, \"\\t\\t domain: \", l.domain, \"\\t path: \", l.path)\n",
    "    \n",
    "for a in set(c.mentioned_addresses):\n",
    "    print(a.address, \"\\t part of org: \", a.org) "
   ]
  },
  {
   "cell_type": "code",
   "execution_count": 13,
   "metadata": {},
   "outputs": [
    {
     "data": {
      "text/plain": [
       "609389"
      ]
     },
     "execution_count": 13,
     "metadata": {},
     "output_type": "execute_result"
    }
   ],
   "source": [
    "len(ledger)"
   ]
  }
 ],
 "metadata": {
  "kernelspec": {
   "display_name": "Python 3",
   "language": "python",
   "name": "python3"
  },
  "language_info": {
   "codemirror_mode": {
    "name": "ipython",
    "version": 3
   },
   "file_extension": ".py",
   "mimetype": "text/x-python",
   "name": "python",
   "nbconvert_exporter": "python",
   "pygments_lexer": "ipython3",
   "version": "3.6.9"
  }
 },
 "nbformat": 4,
 "nbformat_minor": 2
}
