{
 "cells": [
  {
   "cell_type": "code",
   "execution_count": 1,
   "metadata": {},
   "outputs": [],
   "source": [
    "from tqdm import tqdm\n",
    "import pickle\n",
    "import re\n",
    "from collections import Counter\n",
    "import matplotlib.pyplot as plt"
   ]
  },
  {
   "cell_type": "markdown",
   "metadata": {},
   "source": [
    "## Read in headers and email from previous processing steps\n",
    "\n",
    " - headers processed, i.e. variable values extracted and parsed\n",
    " - emails sorted according to time sent in headers\n",
    " - bodies processed by removing quoted text from previous emails in conversation"
   ]
  },
  {
   "cell_type": "code",
   "execution_count": 2,
   "metadata": {},
   "outputs": [],
   "source": [
    "# change to loading emails with body processed as well\n",
    "with open(\"headers_and_bodies_processed.pkl\", \"rb\") as handle:\n",
    "    headers_srtd, mails_srtd = pickle.load(handle)"
   ]
  },
  {
   "cell_type": "markdown",
   "metadata": {},
   "source": [
    "---\n",
    "# The WROTE_TO relation\n"
   ]
  },
  {
   "cell_type": "markdown",
   "metadata": {},
   "source": [
    "## Filter and extract sender and receiver information\n",
    "\n",
    " - remove headers with incomplete sender or receiver information (missing sender email or missing receiver name or email) <br>\n",
    "   -> each sender and each receiver has name and address \n",
    " - removes around half of all emails; good enough for now, later try filling in missing values from other header fields or email body\n",
    " - good news is that the number of unique senders and receivers is much lower than the number of interactions, <br>\n",
    "   implying that on average, people don't act as senders or receivers only once"
   ]
  },
  {
   "cell_type": "code",
   "execution_count": 3,
   "metadata": {},
   "outputs": [
    {
     "name": "stdout",
     "output_type": "stream",
     "text": [
      "Number of headers before filtering:\t 143963\n",
      "Number of headers after filtering:\t 65663\n",
      "\n",
      "Number of unique senders:\t 5203\n",
      "Number of unique receivers:\t 8413\n",
      "Number of unique people:\t 11011 \t\t(overlap: 0.8086809635722679 )\n"
     ]
    }
   ],
   "source": [
    "def filter_headers(header_ls):\n",
    "    for h in header_ls:\n",
    "        if not h[\"email\"]:\n",
    "            continue\n",
    "        if not h[\"to\"][0]:\n",
    "            continue\n",
    "        if not h[\"to\"][1]:\n",
    "            continue\n",
    "        yield h\n",
    "        \n",
    "\n",
    "headers_fltrd = list(filter_headers(headers_srtd))\n",
    "# headers_fltrd = headers_srtd\n",
    "print(\"Number of headers before filtering:\\t\", len(headers_srtd))\n",
    "print(\"Number of headers after filtering:\\t\", len(headers_fltrd))\n",
    "print()\n",
    "\n",
    "all_senders = {(h[\"name\"], h[\"email\"]) for h in headers_fltrd}\n",
    "all_receivers = {h[\"to\"] for h in headers_fltrd}\n",
    "\n",
    "print(\"Number of unique senders:\\t\", len(all_senders))\n",
    "print(\"Number of unique receivers:\\t\", len(all_receivers))\n",
    "print(\"Number of unique people:\\t\", len(all_senders | all_receivers),\n",
    "\"\\t\\t(overlap:\", (len(all_senders | all_receivers)/(len(all_senders) + len(all_receivers))), \")\")"
   ]
  },
  {
   "cell_type": "markdown",
   "metadata": {},
   "source": [
    "## Uniqueness of email addresses <br> (i.e. the usability of email addresses as unique identifiers)\n",
    "\n",
    " - it turns out that for some email addresses, there are multiple users of that address\n",
    " - it seems that these are mainly support addresses and mailing list addresses\n",
    " - -> to ensure uniqueness, for now we use both name and address as person identifier"
   ]
  },
  {
   "cell_type": "code",
   "execution_count": 4,
   "metadata": {},
   "outputs": [
    {
     "name": "stdout",
     "output_type": "stream",
     "text": [
      "Number of unique addresses:\t\t 8267\n",
      "Number of addresses with single user:\t 6902\n",
      "\n",
      "Addresses with the most users:\n",
      "\n",
      "  Address:\t w3c-wai-ig@w3.org\n",
      "  Number of users:\t 105\n",
      "  Sample from set of users:\t [\"W3c-Wai-Ig list (E-mail)'\", '1-W3C-WAI Interest Group', \"'WAI Mailing list (E-mail)'\", 'WAI IG List', \"'W3c_Access'\"]\n",
      "\n",
      "  Address:\t w3c-wai-gl@w3.org\n",
      "  Number of users:\t 84\n",
      "  Sample from set of users:\t ['wai wac', \"'WCAG (E-mail)'\", \"'w3c-wai-gl@w3.org'\", 'gl', \"'GLWAI Guidelines WG (GL - WAI Guidelines WG)'\"]\n",
      "\n",
      "  Address:\t www-amaya@w3.org\n",
      "  Number of users:\t 52\n",
      "  Sample from set of users:\t ['Amaya Forum', 'Amaya (Request)', \"'amaya maillist'\", 'ML Amaya', 'Amaya Mailingliste']\n",
      "\n",
      "  Address:\t w3c-wai-eo@w3.org\n",
      "  Number of users:\t 50\n",
      "  Sample from set of users:\t ['eowg', 'WAI Education&Outreach Working Group', 'Education&Outreach', 'w3c-wai-eo', 'W3c-Wai-Eo (w3c-wai-eo@w3.org)']\n",
      "\n",
      "  Address:\t html-tidy@w3.org\n",
      "  Number of users:\t 46\n",
      "  Sample from set of users:\t ['Html-tidy', \"'Dave Raggett'\", \"'Html-Tidy\", 'Tidy group', 'tidy list']\n",
      "\n"
     ]
    }
   ],
   "source": [
    "addresses = {}\n",
    "\n",
    "for h in headers_fltrd:\n",
    "    if not h[\"email\"] in addresses:\n",
    "        addresses[h[\"email\"]] = set()\n",
    "    addresses[h[\"email\"]].add(h[\"name\"])\n",
    "    \n",
    "    if not h[\"to\"][1] in addresses:\n",
    "        addresses[h[\"to\"][1]] = set()\n",
    "    addresses[h[\"to\"][1]].add(h[\"to\"][0])\n",
    "    \n",
    "print(\"Number of unique addresses:\\t\\t\", len(addresses))\n",
    "print(\"Number of addresses with single user:\\t\", len([v for v in addresses.values() if len(v) == 1]))\n",
    "\n",
    "len_sorted = sorted(addresses.items(), key=lambda kv: len(kv[1]), reverse=True)\n",
    "\n",
    "print()\n",
    "print(\"Addresses with the most users:\\n\")\n",
    "for addr, name_set in len_sorted[:5]:\n",
    "    print(\"  Address:\\t\", addr)\n",
    "    print(\"  Number of users:\\t\", len(name_set))\n",
    "    print(\"  Sample from set of users:\\t\",list(name_set)[:5])\n",
    "    print()"
   ]
  },
  {
   "cell_type": "markdown",
   "metadata": {},
   "source": [
    "## Collect the actual instances of the relation WROTE_TO\n",
    "\n",
    " - i.e. a tuple of: 1) sender (name, email) and 2) receiver (name, email)"
   ]
  },
  {
   "cell_type": "code",
   "execution_count": 5,
   "metadata": {},
   "outputs": [
    {
     "name": "stdout",
     "output_type": "stream",
     "text": [
      "Number of instances:\t\t 65663\n",
      "Number of unique instances:\t 24412\n"
     ]
    }
   ],
   "source": [
    "relation_tuples = [((h[\"name\"], h[\"email\"]), h[\"to\"]) for h in headers_fltrd]\n",
    "\n",
    "print(\"Number of instances:\\t\\t\", len(relation_tuples))\n",
    "print(\"Number of unique instances:\\t\", len(set(relation_tuples)))"
   ]
  },
  {
   "cell_type": "markdown",
   "metadata": {},
   "source": [
    "## Basic stats about the WROTE_TO relation\n",
    "\n",
    " 1. frequencies of unique relation instances, i.e. how many times a pair of sender and receiver occurs\n"
   ]
  },
  {
   "cell_type": "code",
   "execution_count": 6,
   "metadata": {},
   "outputs": [
    {
     "name": "stdout",
     "output_type": "stream",
     "text": [
      "Most common tuples:\n",
      "  (('CVS Update Notifier', 'nobody@w3.org'), ('CVS Notify', 'public-ws-desc-eds@w3.org')):\t\t830 times\n",
      "  (('Charles McCathieNevile', 'charles@w3.org'), ('WAI AU Guidelines', 'w3c-wai-au@w3.org')):\t\t493 times\n",
      "  (('Judy Brewer', 'jbrewer@w3.org'), ('EOWG', 'w3c-wai-eo@w3.org')):\t\t389 times\n",
      "  (('Brian McBride', 'bwm@hplb.hpl.hp.com'), ('RDF Core', 'w3c-rdfcore-wg@w3.org')):\t\t248 times\n",
      "  (('Brian McBride', 'bwm@hplb.hpl.hp.com'), ('rdf core', 'w3c-rdfcore-wg@w3.org')):\t\t210 times\n",
      "\n",
      "\n"
     ]
    },
    {
     "data": {
      "image/png": "[encoded data removed]",
      "text/plain": [
       "<Figure size 432x288 with 1 Axes>"
      ]
     },
     "metadata": {},
     "output_type": "display_data"
    }
   ],
   "source": [
    "freqs = Counter(relation_tuples)\n",
    "print(\"Most common tuples:\")\n",
    "for rt, f in Counter(relation_tuples).most_common(5):\n",
    "    print(f\"  {rt}:\\t\\t{f} times\")\n",
    "    \n",
    "print(\"\\n\")\n",
    "plt.loglog(list(range(1, len(freqs)+1)), [c for t, c in freqs.most_common()], '+')\n",
    "plt.title(\"Rank-frequency plot per unique relation instance\")\n",
    "plt.xlabel(\"Rank of relation instance\")\n",
    "plt.ylabel(\"Frequency of relation instance\")\n",
    "plt.show()"
   ]
  },
  {
   "cell_type": "markdown",
   "metadata": {},
   "source": [
    " 2. frequencies of unique sender instances, i.e. how many times each person acted as sender"
   ]
  },
  {
   "cell_type": "code",
   "execution_count": 7,
   "metadata": {},
   "outputs": [
    {
     "name": "stdout",
     "output_type": "stream",
     "text": [
      "Most common senders:\n",
      "  ('Charles McCathieNevile', 'charles@w3.org'):\t\t3954 times\n",
      "  ('Brian McBride', 'bwm@hplb.hpl.hp.com'):\t\t1471 times\n",
      "  ('Dan Connolly', 'connolly@w3.org'):\t\t979 times\n",
      "  ('Patrick Stickler', 'patrick.stickler@nokia.com'):\t\t953 times\n",
      "  ('Ian Jacobs', 'ij@w3.org'):\t\t847 times\n",
      "\n",
      "\n"
     ]
    },
    {
     "data": {
      "image/png": "[encoded data removed]",
      "text/plain": [
       "<Figure size 432x288 with 1 Axes>"
      ]
     },
     "metadata": {},
     "output_type": "display_data"
    }
   ],
   "source": [
    "freqs = Counter([send for send, rec in relation_tuples])\n",
    "print(\"Most common senders:\")\n",
    "for rt, f in freqs.most_common(5):\n",
    "    print(f\"  {rt}:\\t\\t{f} times\")\n",
    "    \n",
    "print(\"\\n\")\n",
    "plt.loglog(list(range(1, len(freqs)+1)), [c for t, c in freqs.most_common()], '+')\n",
    "plt.title(\"Rank-frequency plot per unique sender\")\n",
    "plt.xlabel(\"Rank of sender\")\n",
    "plt.ylabel(\"Frequency of sender\")\n",
    "plt.show()"
   ]
  },
  {
   "cell_type": "markdown",
   "metadata": {},
   "source": [
    "## Write collected relation instances to a pickle file for later graph construction"
   ]
  },
  {
   "cell_type": "code",
   "execution_count": 8,
   "metadata": {},
   "outputs": [],
   "source": [
    "with open(\"WROTE_TO.pkl\", \"wb\") as handle:\n",
    "    pickle.dump(relation_tuples, handle)"
   ]
  },
  {
   "cell_type": "markdown",
   "metadata": {},
   "source": [
    "---\n",
    "# TODO: The REFERRED_TO relation\n",
    "\n",
    " - collect all unique resource identifiers (links, email addresses, etc) from email body\n",
    " - for each of these URIs, the tuple of sender and that URI is an instance of the relation REFERRED_TO\n",
    " - regex patterns below cathc (almost) all email addresses and http links"
   ]
  },
  {
   "cell_type": "code",
   "execution_count": 9,
   "metadata": {},
   "outputs": [],
   "source": [
    "# email address and link extraction\n",
    "email_address_pattern = re.compile(r'[\\w\\.-]+@[\\w\\.-]+')\n",
    "url_pattern = re.compile(r\"http[s]?://(?:[a-zA-Z]|[0-9]|[$-_@.&+]|[!*\\(\\), ]|(?:%[0-9a-fA-F][0-9a-fA-F]))+\")"
   ]
  }
 ],
 "metadata": {
  "kernelspec": {
   "display_name": "Python 3",
   "language": "python",
   "name": "python3"
  },
  "language_info": {
   "codemirror_mode": {
    "name": "ipython",
    "version": 3
   },
   "file_extension": ".py",
   "mimetype": "text/x-python",
   "name": "python",
   "nbconvert_exporter": "python",
   "pygments_lexer": "ipython3",
   "version": "3.6.9"
  }
 },
 "nbformat": 4,
 "nbformat_minor": 2
}
