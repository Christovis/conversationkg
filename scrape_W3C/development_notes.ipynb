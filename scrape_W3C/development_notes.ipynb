{
 "cells": [
  {
   "cell_type": "markdown",
   "metadata": {},
   "source": [
    "# Notes on Scraping the W3C Mailing Lists\n",
    "\n",
    "Developer's notes and other miscellaneous observations\n",
    "\n",
    "---"
   ]
  },
  {
   "cell_type": "code",
   "execution_count": 1,
   "metadata": {},
   "outputs": [],
   "source": [
    "# setup\n",
    "import pickle\n",
    "import matplotlib.pyplot as plt\n",
    "import seaborn as sns\n",
    "\n"
   ]
  },
  {
   "cell_type": "markdown",
   "metadata": {},
   "source": [
    "---"
   ]
  },
  {
   "cell_type": "code",
   "execution_count": 13,
   "metadata": {},
   "outputs": [
    {
     "name": "stdout",
     "output_type": "stream",
     "text": [
      "Numer of mailing lists:  1597\n"
     ]
    }
   ],
   "source": [
    "# number of mailing lists\n",
    "with open(\"message_numbers_per_list.pkl\", \"rb\") as handle:\n",
    "    numbers = pickle.load(handle)\n",
    "print(\"Numer of mailing lists: \", len(numbers))"
   ]
  },
  {
   "cell_type": "code",
   "execution_count": 16,
   "metadata": {},
   "outputs": [
    {
     "name": "stdout",
     "output_type": "stream",
     "text": [
      "Total number of e-mails: 1975451\n",
      "Number of mailing lists with no e-mails:  406\n"
     ]
    },
    {
     "data": {
      "image/png": "[encoded data removed]",
      "text/plain": [
       "<Figure size 432x288 with 1 Axes>"
      ]
     },
     "metadata": {},
     "output_type": "display_data"
    }
   ],
   "source": [
    "# number of mails per mailing list\n",
    "total_per_list = [sum(nums) for nums in numbers.values()]\n",
    "fig = plt.hist(total_per_list, bins=30)\n",
    "# fig.set_xscale(\"log\"); fig.set_yscale(\"log\")\n",
    "print(\"Total number of e-mails:\", sum(total_per_list))\n",
    "print(\"Number of mailing lists with no e-mails: \", len([t for t in total_per_list if t < 1]))"
   ]
  },
  {
   "cell_type": "markdown",
   "metadata": {},
   "source": [
    "---"
   ]
  },
  {
   "cell_type": "markdown",
   "metadata": {},
   "source": [
    "---\n",
    "# TODOs\n",
    "\n",
    " - [ ] server connection via http.client not parallelisable because `TypeError: can't pickle SSLContext objects`\n",
    " - [ ] some mailing list links are flawed (parts of the url repeated)"
   ]
  },
  {
   "cell_type": "markdown",
   "metadata": {},
   "source": [
    "---\n",
    "## Misc Notes\n",
    "\n",
    " - some (at least 1) e-mails are LATIN-1 encoded (decoding to UTF-8 leads to errors)\n",
    " - quite a few mailing lists (406) have no e-mails in them\n",
    " - each mailing list in divided into time periods; collecting individual time period links \"directly\" from the list of periods (i.e. the HTML) by regular expression (i.e. not by finding the location in the HTML tree) because that was easier => seems just work\n",
    " - server seems to disconnect after too many requests (around 3.5k) => just re-connecting seems to work well\n",
    " - server disconnects after 1531 requests (while collecting periods) => catch exception & re-connect"
   ]
  }
 ],
 "metadata": {
  "kernelspec": {
   "display_name": "Python 3",
   "language": "python",
   "name": "python3"
  },
  "language_info": {
   "codemirror_mode": {
    "name": "ipython",
    "version": 3
   },
   "file_extension": ".py",
   "mimetype": "text/x-python",
   "name": "python",
   "nbconvert_exporter": "python",
   "pygments_lexer": "ipython3",
   "version": "3.6.9"
  }
 },
 "nbformat": 4,
 "nbformat_minor": 2
}
