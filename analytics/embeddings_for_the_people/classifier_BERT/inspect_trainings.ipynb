{
 "cells": [
  {
   "cell_type": "code",
   "execution_count": 1,
   "metadata": {},
   "outputs": [],
   "source": [
    "import pickle\n",
    "import numpy as np\n",
    "import matplotlib.pyplot as plt"
   ]
  },
  {
   "cell_type": "code",
   "execution_count": 2,
   "metadata": {},
   "outputs": [],
   "source": [
    "chkpt = \"results/checkpoints_20200425-2305\"\n",
    "chkpt = \"results/checkpoints_20200501-1527/\"\n",
    "# chkpt = \"org_checkpoints_20200425-2347\"\n",
    "fewer_epochs = 25\n",
    "epochs = 25"
   ]
  },
  {
   "cell_type": "code",
   "execution_count": 3,
   "metadata": {},
   "outputs": [],
   "source": [
    "import tensorflow as tf\n",
    "file_writer = tf.summary.create_file_writer(chkpt + \"/val_losses\")\n",
    "file_writer.set_as_default()"
   ]
  },
  {
   "cell_type": "code",
   "execution_count": 4,
   "metadata": {},
   "outputs": [],
   "source": [
    "from scipy.special import expit, logit\n",
    "mn, mx = expit(-1), expit(1)\n",
    "norm = lambda x: (x - mn) / (mx - mn)\n",
    "norm = lambda x: x"
   ]
  },
  {
   "cell_type": "markdown",
   "metadata": {},
   "source": [
    "# Training\n",
    "---\n",
    "## Losses"
   ]
  },
  {
   "cell_type": "code",
   "execution_count": 5,
   "metadata": {},
   "outputs": [
    {
     "name": "stdout",
     "output_type": "stream",
     "text": [
      "<class 'torch.Tensor'>\n"
     ]
    }
   ],
   "source": [
    "with open(f\"{chkpt}/train_losses.pkl\", \"rb\") as handle:\n",
    "    train_losses = pickle.load(handle)\n",
    "    \n",
    "print(type(train_losses))\n",
    "train_losses = np.asarray(train_losses).reshape((fewer_epochs, -1))\n",
    "# train_losses = norm(train_losses)"
   ]
  },
  {
   "cell_type": "code",
   "execution_count": 6,
   "metadata": {},
   "outputs": [],
   "source": [
    "for i, tl in enumerate(train_losses): \n",
    "    tf.summary.histogram(\"train_losses\", tl, step=i)"
   ]
  },
  {
   "cell_type": "markdown",
   "metadata": {},
   "source": [
    "# Probs"
   ]
  },
  {
   "cell_type": "code",
   "execution_count": 7,
   "metadata": {},
   "outputs": [],
   "source": [
    "with open(f\"{chkpt}/train_preds.pkl\", \"rb\") as handle:\n",
    "    train_preds = pickle.load(handle)\n",
    "train_preds = np.asarray([p.detach().numpy() for p in train_preds]).reshape((fewer_epochs, -1))\n",
    "train_preds = norm(train_preds)"
   ]
  },
  {
   "cell_type": "code",
   "execution_count": 8,
   "metadata": {},
   "outputs": [],
   "source": [
    "for i, tp in enumerate(train_preds): \n",
    "    tf.summary.histogram(\"train_preds\", tp, step=i)"
   ]
  },
  {
   "cell_type": "markdown",
   "metadata": {},
   "source": [
    "# Validation\n",
    "---\n",
    "## Losses"
   ]
  },
  {
   "cell_type": "code",
   "execution_count": 9,
   "metadata": {},
   "outputs": [],
   "source": [
    "val_dicts = []\n",
    "for i in range(1, epochs+1):\n",
    "    with open(f\"{chkpt}/validation_epoch_{i:02d}.pth\", \"rb\") as handle:\n",
    "        val_dicts.append(pickle.load(handle))"
   ]
  },
  {
   "cell_type": "code",
   "execution_count": 10,
   "metadata": {},
   "outputs": [],
   "source": [
    "val_losses = np.asarray([vd[\"losses\"].numpy() for vd in val_dicts])\n",
    "for i, vl in enumerate(val_losses): \n",
    "    tf.summary.histogram(\"val_losses\", vl, step=i)"
   ]
  },
  {
   "cell_type": "code",
   "execution_count": 11,
   "metadata": {},
   "outputs": [
    {
     "name": "stdout",
     "output_type": "stream",
     "text": [
      "[0.5643217  0.50677496 0.50866795 0.54726106 0.6229986  0.60646355\n",
      " 0.56689805 0.5499185  0.5478121  0.5891282  0.5673062  0.5349117\n",
      " 0.6493038  0.49475107 0.56003255 0.5770194  0.54237306 0.6582781\n",
      " 0.6254104  0.5446534  0.5738472  0.5535309  0.53617907 0.56636393\n",
      " 0.58353174] \n",
      "\n",
      "[2.0424898  1.3493668  1.0264792  1.7352953  1.1522635  1.034916\n",
      " 0.8097803  0.77024233 0.67679334 0.6752505  0.65822166 0.70968664\n",
      " 0.6875702  0.68222296 0.597913   0.58639455 0.57710516 0.5704597\n",
      " 0.57468116 0.5692267  0.5675239  0.56237686 0.55594957 0.5625066\n",
      " 0.54684955] \n",
      "\n"
     ]
    }
   ],
   "source": [
    "print(train_losses.mean(axis=-1), \"\\n\")\n",
    "print(val_losses.mean(axis=-1), \"\\n\")"
   ]
  },
  {
   "cell_type": "code",
   "execution_count": 12,
   "metadata": {},
   "outputs": [
    {
     "data": {
      "text/plain": [
       "[<matplotlib.lines.Line2D at 0x7f821ea82828>]"
      ]
     },
     "execution_count": 12,
     "metadata": {},
     "output_type": "execute_result"
    },
    {
     "data": {
      "image/png": "[encoded data removed]",
      "text/plain": [
       "<Figure size 432x288 with 1 Axes>"
      ]
     },
     "metadata": {},
     "output_type": "display_data"
    }
   ],
   "source": [
    "plt.plot(range(epochs-fewer_epochs+1, epochs+1), train_losses.mean(axis=-1), '--', c=\"blue\")\n",
    "plt.plot(range(1, epochs+1), val_losses.mean(axis=-1), '--', c=\"red\")"
   ]
  },
  {
   "cell_type": "code",
   "execution_count": 13,
   "metadata": {},
   "outputs": [
    {
     "name": "stdout",
     "output_type": "stream",
     "text": [
      "(8,)\n",
      "(200,)\n"
     ]
    },
    {
     "data": {
      "text/plain": [
       "[<matplotlib.lines.Line2D at 0x7f8175141cc0>]"
      ]
     },
     "execution_count": 13,
     "metadata": {},
     "output_type": "execute_result"
    },
    {
     "data": {
      "image/png": "[encoded data removed]",
      "text/plain": [
       "<Figure size 432x288 with 1 Axes>"
      ]
     },
     "metadata": {},
     "output_type": "display_data"
    }
   ],
   "source": [
    "train_batches = train_losses.flatten().reshape((-1, 500)).mean(axis=-1)\n",
    "val_batches = val_losses.flatten().reshape((-1, 500)).mean(axis=-1)\n",
    "print(train_batches.shape)\n",
    "print(val_batches.shape)\n",
    "plt.plot(range(8), train_batches, '--')\n",
    "plt.plot(range(200), val_batches, '--')"
   ]
  },
  {
   "cell_type": "markdown",
   "metadata": {},
   "source": [
    "## Probs"
   ]
  },
  {
   "cell_type": "code",
   "execution_count": 14,
   "metadata": {},
   "outputs": [
    {
     "name": "stdout",
     "output_type": "stream",
     "text": [
      "0\n",
      "1\n",
      "2\n",
      "3\n",
      "4\n",
      "5\n",
      "6\n",
      "7\n",
      "8\n",
      "9\n",
      "10\n",
      "11\n",
      "12\n",
      "13\n",
      "14\n",
      "15\n",
      "16\n",
      "17\n",
      "18\n",
      "19\n",
      "20\n",
      "21\n",
      "22\n",
      "23\n",
      "24\n"
     ]
    }
   ],
   "source": [
    "val_probs = np.asarray([vd[\"probs\"].numpy() for vd in val_dicts])\n",
    "val_probs = norm(val_probs)\n",
    "for i, vp in enumerate(val_probs):\n",
    "    print(i)\n",
    "    tf.summary.histogram(\"val_probs\", vp, step=i)"
   ]
  },
  {
   "cell_type": "code",
   "execution_count": null,
   "metadata": {},
   "outputs": [],
   "source": []
  },
  {
   "cell_type": "code",
   "execution_count": 15,
   "metadata": {},
   "outputs": [
    {
     "data": {
      "text/plain": [
       "1.581945"
      ]
     },
     "execution_count": 15,
     "metadata": {},
     "output_type": "execute_result"
    }
   ],
   "source": [
    "from scipy.special import expit\n",
    "mn, mx = expit(-1), expit(1)\n",
    "norm = lambda x: (x - mn) / (mx - mn)\n",
    "norm(val_probs).max()"
   ]
  },
  {
   "cell_type": "code",
   "execution_count": 16,
   "metadata": {},
   "outputs": [],
   "source": [
    "rands = expit(np.random.uniform(-1, 1, 100000))"
   ]
  },
  {
   "cell_type": "code",
   "execution_count": 17,
   "metadata": {},
   "outputs": [
    {
     "data": {
      "image/png": "[encoded data removed]",
      "text/plain": [
       "<Figure size 432x288 with 1 Axes>"
      ]
     },
     "metadata": {},
     "output_type": "display_data"
    }
   ],
   "source": [
    "_ = plt.hist(rands, bins=100)\n",
    "_ = plt.hist(norm(rands), bins=100, color=\"orange\", histtype=\"step\")"
   ]
  },
  {
   "cell_type": "code",
   "execution_count": 18,
   "metadata": {},
   "outputs": [
    {
     "data": {
      "text/plain": [
       "(0.2689414213699951, -0.4054651081081643, 0.7310585786300049)"
      ]
     },
     "execution_count": 18,
     "metadata": {},
     "output_type": "execute_result"
    }
   ],
   "source": [
    "expit(-1), logit(0.4), expit(1)"
   ]
  }
 ],
 "metadata": {
  "kernelspec": {
   "display_name": "Python 3",
   "language": "python",
   "name": "python3"
  },
  "language_info": {
   "codemirror_mode": {
    "name": "ipython",
    "version": 3
   },
   "file_extension": ".py",
   "mimetype": "text/x-python",
   "name": "python",
   "nbconvert_exporter": "python",
   "pygments_lexer": "ipython3",
   "version": "3.6.9"
  }
 },
 "nbformat": 4,
 "nbformat_minor": 2
}
